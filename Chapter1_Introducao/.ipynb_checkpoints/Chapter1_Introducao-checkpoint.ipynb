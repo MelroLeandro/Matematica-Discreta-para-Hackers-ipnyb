{
 "cells": [
  {
   "cell_type": "markdown",
   "metadata": {},
   "source": [
    "Matemática Discreta para Hackers\n",
    "=====\n",
    "\n",
    "##### Version 0.1\n",
    "Bem vindo a  *Matemática Discreta para Hackers*. O repositório Github está desponivel em [github/Matematica-Discreta-e-Programacao-Usando-Python](https://github.com/MelroLeandro/Matematica-Discreta-para-Hackers). Esperamos que goste deste livro, e encorajamos que contribuira na sua melhoria!"
   ]
  },
  {
   "cell_type": "markdown",
   "metadata": {},
   "source": [
    "Capítulo 1\n",
    "======\n",
    "***"
   ]
  },
  {
   "cell_type": "markdown",
   "metadata": {},
   "source": [
    "Python\n",
    "------\n",
    "\n",
    "A linguagem de programação Python é constituida por diferenres construções sintácticas, uma grande variedade de funções em bibliotecas e estructuras de dados standard à linguagem. Formalmente podemos ignorar grande parte destes atributos, para o tipo de aplicações que temos em mente. Pretendemos implementar simples funções ou pequenos programas com o proposito de resolver problemas de matemática discreta e ensentivar o seu estudo mais aprefundado. A complexidade dos problemas seram incrementadas progrecivamente ao longo dos Capítulos. O que inicialmente são pequenos scripts, com meia duzia de linhas de programação, nos últimos Capítulos do livro vai exigir a utilização de vários módulos descitos em ficeiros separados. Nesse sentido, a parte inicial, ou nos capítulos iniciais, a execução das linhas de comando faz-se no Jupyter ou directamente no interpretagor. Na parte final deste Notebook, passa a ser esegida a utilização dum editor de texto ou de um ambiente de programação. Aqui usamos o IDLE que apesar das suas limitações é usado aqui como ambiente de desenvolvimento standard.\n",
    "\n",
    "Temos no entanto de aprender alguns conceitos de programação básicos antes de podermos resolver qualquer problema. Os exemplos de utilização seram apresentados após apresentação de um enquadramento teórico, nos Capítulos consecuentes.\n",
    "\n",
    "Em todos estes Capítulos encorajamos a que os exemplos apresentados sejam alterados e executados no Jupyter e se possivel reescritos directamente no interpretador ou ambiente de desenvolvimento. Neste ponto assumimos que tem o ambiente Jupyter a funcionar no seu computador.   "
   ]
  },
  {
   "cell_type": "markdown",
   "metadata": {},
   "source": [
    "#### Fundamentos\n",
    "\n",
    "O espaço abaixo é usual designar no Jupyter célula de execução:"
   ]
  },
  {
   "cell_type": "code",
   "execution_count": null,
   "metadata": {
    "collapsed": true
   },
   "outputs": [],
   "source": []
  },
  {
   "cell_type": "markdown",
   "metadata": {},
   "source": [
    "Neste caso a célula está vazia. Com isto quer dizer que não tem código ou programa para ser executado. Para executar uma célula basta que esta esteja selecionada e seja teclado simultaniamente Shift+Return.\n",
    "\n",
    "Podemos começar por usar uma célula para fazer um pouco de aritmética."
   ]
  },
  {
   "cell_type": "code",
   "execution_count": 1,
   "metadata": {
    "collapsed": false
   },
   "outputs": [
    {
     "data": {
      "text/plain": [
       "4"
      ]
     },
     "execution_count": 1,
     "metadata": {},
     "output_type": "execute_result"
    }
   ],
   "source": [
    "2+2"
   ]
  },
  {
   "cell_type": "markdown",
   "metadata": {},
   "source": [
    "Resumino: o resultado de avaliar 2+2 é 4. Fantástico. Exprimente alteras o operador usando para isso a sintaxe descrita abaixo.\n",
    "\n",
    "Operador |  Operação | Examplemplo | Valor ...\n",
    "---------|-----------|-------------|-----------\n",
    "**       | potência  | 2 ** 3      | 8\n",
    "%        | resto da divisão inteira | 22 % 8 |6\n",
    "//       | quociente da divisão inteira | 22 // 8 | 2\n",
    "/       | divisão |  22 / 8 | 2.75\n",
    "*  | multiplicação |  3 * 5 |15\n",
    "-  | Subtraction |  5 - 2 | 3\n",
    "+  | Addition  | 2 + 2 | 4\n",
    "\n",
    "A ordem das operações (também designada de precedência) dos operadores aritméticos do Pythone é similar à que é usada na matemática. O operador ** é avaliado primeiro; os operadores  *, /, //, e % são avaliados a seguir, da esquerda para a direita; por último é avaliado + e - (também da esquerda para a direita). Naturalmente que podemos usar parenteses para superimpor a ordem de avaliação que desejar.\n"
   ]
  },
  {
   "cell_type": "code",
   "execution_count": 2,
   "metadata": {
    "collapsed": false
   },
   "outputs": [
    {
     "data": {
      "text/plain": [
       "16"
      ]
     },
     "execution_count": 2,
     "metadata": {},
     "output_type": "execute_result"
    }
   ],
   "source": [
    "(5 - 1) * ((7 + 1) / (3 - 1))"
   ]
  },
  {
   "cell_type": "markdown",
   "metadata": {},
   "source": [
    "Na tentativa de avaliar uma expressão, como a anterir, o Python, guiado pela ordem de precedencia imposta pelos operadores ou pela parentização, avalia progrecivamente subfórmulas até opter um valor único.\n",
    "\n",
    "<img src=\"000056.png\" width = 200/>\n",
    "\n",
    "As regras usadas para formar expressões que podem ser avaliadas ( ou que o interpretador de Python perceba) são parte fundamental do Python como linguagem de programação. Estas regras podem ser entendidas como identicas às regras gramaticais que nos ajudam a comunicar.\n",
    "\n",
    "Sempre que pedimos ao Python para executar uma instrução desconhecida, ou cuja descição é incorrecta ou que o Python não consegue preceber, é emitida uma mensagem identificando um erro de sintaxe:"
   ]
  },
  {
   "cell_type": "code",
   "execution_count": 3,
   "metadata": {
    "collapsed": false
   },
   "outputs": [
    {
     "ename": "SyntaxError",
     "evalue": "invalid syntax (<ipython-input-3-bc8c986ea5b3>, line 1)",
     "output_type": "error",
     "traceback": [
      "\u001b[1;36m  File \u001b[1;32m\"<ipython-input-3-bc8c986ea5b3>\"\u001b[1;36m, line \u001b[1;32m1\u001b[0m\n\u001b[1;33m    5+\u001b[0m\n\u001b[1;37m      ^\u001b[0m\n\u001b[1;31mSyntaxError\u001b[0m\u001b[1;31m:\u001b[0m invalid syntax\n"
     ]
    }
   ],
   "source": [
    "5+"
   ]
  },
  {
   "cell_type": "code",
   "execution_count": 1,
   "metadata": {
    "collapsed": false
   },
   "outputs": [
    {
     "data": {
      "text/plain": [
       "-8"
      ]
     },
     "execution_count": 1,
     "metadata": {},
     "output_type": "execute_result"
    }
   ],
   "source": [
    "42 + 5 + * 2"
   ]
  },
  {
   "cell_type": "markdown",
   "metadata": {},
   "source": [
    "Acima são apresentados dois exemplos de expressões que não respeitam as regras gramaticais da linguagem de programação."
   ]
  },
  {
   "cell_type": "markdown",
   "metadata": {},
   "source": [
    "##### Constantes Literais\n",
    "Um exemplo de uma constante literal é um número como *5*, *1.23*, *9.25e-3* ou uma string (sequência de caracteres) como *'Isto é uma string'* ou *\"É uma string!\"*. Estas constantes são designadas literais porque devem ser interpretadas à letra (literalmente). O número *2* é entendido como dois, é uma constante porque o seu valor (significado) não pode ser alterado. \n",
    "\n",
    "##### Números\n",
    "\n",
    "Os números em Python são de três tipos: *inteiros*, *ponto flutuante* e *complexos*:\n",
    "\n",
    "1. *2* é um exemplo de inteiro, os inteiros são elementos do conjunto dos números inteiros. Existem no entanto limitações à magnitude dos inteiros que se podem usar. \n",
    "\n",
    "    2. *3.23* e *52.3E-4* são exemplos de números no sistema de virgula flutuante (ou floats, para abreviar). A notação E indica as potências de *10*. Neste caso, *52.3E-4* significa *52.3*$\\times$ *10*$^{-4}$.\n",
    "\n",
    "3. (*-5+4j*) e (*2.3 - 4.6j*) são exemplos de números complexos, que em Matemáica é normal representar por *-5+4i* e *2.3 - 4.6i*.\n",
    "\n",
    "##### Strings\n",
    "\n",
    "[caracteres]\n",
    "\n",
    "Uma string é uma sequência de caracteres. As strings são basicamente uma sequência de símbolos. As stings são usualmente usadas para representar palavras que podem ser da língua Inglesa ou de qualquer língua que seja suportada pelo padrão Unicode (permitindo codificar quase todas as línguas do mundo). \n",
    "\n",
    "##### Aspas Unitárias\n",
    "Uma strings pode ser definida por uma sequência de caracteres delimitada por aspas unitárias (ou apóstrofes) tais como *'O estudo da lógica remonta à civilização helénica'*. Todos os espaços em branco, isto é, espaços e tabulações são preservados no estado em que se encontram.\n",
    "\n",
    "##### Aspas Duplas\n",
    "As strings podem ser também definidas usando aspas duplas por exemplo : *\"A arte da argumentação levou à morte de Sócrates.\"*\n",
    "\n",
    "##### Aspas Triplas\n",
    "Outra forma a definir strings que ocupam várias linhas é usar aspas triplas (\"\"\" ou '''). Um exemplo:\n",
    "\n",
    ">    '''A palavra \"trivial\" tem uma etimologia interessante. \n",
    "   É a conjugação de \"tri\" (significando '3') e \"via\" (significando caminho).\n",
    "   Originalmente refere-se ao \"trivium\", as três áreas fundamentais do\n",
    "   'curriculae': gramática, retórica e lógica.\n",
    "   Assuntos que se tem de dominar para aceder ao \"quadrivium\", que\n",
    "   consiste na aritmética, geometria, música e astronomia.      \n",
    "    '''\n",
    "    \n",
    "##### Sequências de Escape\n",
    "Para definir uma string que contenha um apóstrofe ('), como em: \n",
    "\n",
    ">'Why was logic considered to be fundamental to one's education?' \n",
    "\n",
    "sem que a apóstrofe interna entre em conflito com os delimitadores, usa-se uma sequência de escape. Para evitar o conflito, o caracter apóstrofe é representado na string por $\\setminus$'. A string deve assim ser definida como:\n",
    "\n",
    ">'Why was logic considered to be fundamental to one$\\setminus$'s education?'\n",
    "\n",
    "Outra forma de definir a string anterior seria \\emph{\"Why was logic considered to be fundamental to one$\\setminus$'s education?\"}, através das aspas duplas. De forma idêntica, é usada uma sequência de escape para inserir aspas duplas numa string limitada por aspas duplas. A própria barra invertida pode ser inserida na string pela sequência de escape $\\setminus\\setminus$.\n",
    "\n",
    "Como apresentado para definir uma string com mais de duas linhas usa-se por limitador aspas triplas. Outro processo é usar uma sequência de escape $\\setminus$n, para indicar o fim de uma linha e o início de outra linha na string. Por exemplo, \n",
    "\n",
    "> 'A lógica centra-se na razão e na noção de verdade.$\\setminus$n A retórica fundamenta-se em ideias feitas e populistas.'\n",
    "\n",
    "Existem outras sequências de escape, apresenta-se aqui apenas as mais usadas. Para um descrição sistemática use a documentação do interpretador.\n",
    "\n",
    "Num editor, durante a programação, é frequente ter a necessidade de continuar uma string na linha imediatamente abaixo. Para isso é usada uma única barra invertida no fim da linha. Por exemplo em *Looking Glass* de Lewis Carroll:"
   ]
  },
  {
   "cell_type": "code",
   "execution_count": 47,
   "metadata": {
    "collapsed": false
   },
   "outputs": [
    {
     "name": "stdout",
     "output_type": "stream",
     "text": [
      "\"Reciprocamente\", continuou Tweedledee, \"Se é assim, ele pode ser, \n",
      " e se não é, será; mas como não é não se preocupa. Isto é lógica.\" \n"
     ]
    }
   ],
   "source": [
    "H=   \"\\\"Reciprocamente\\\", continuou Tweedledee, \\\n",
    "\\\"Se é assim, ele pode ser, \\n \\\n",
    "e se não é, será; mas como não é não se preocupa. \\\n",
    "Isto é lógica.\\\" \"\n",
    "print(H) "
   ]
  },
  {
   "cell_type": "markdown",
   "metadata": {},
   "source": [
    "Se por algum motivo tem necessidade que o interpretador não trate as sequências de escape, na definição da string deve usar como prefixo um r ou um R. Por exemplo, na string anterior:"
   ]
  },
  {
   "cell_type": "code",
   "execution_count": 48,
   "metadata": {
    "collapsed": false
   },
   "outputs": [
    {
     "name": "stdout",
     "output_type": "stream",
     "text": [
      "\\\"Reciprocamente\\\", continuou Tweedledee, \\\"Se é assim, ele pode ser, \\n e se não é, será; mas como não é não se preocupa. Isto é lógica.\\\" \n"
     ]
    }
   ],
   "source": [
    "H=  r\"\\\"Reciprocamente\\\", continuou Tweedledee, \\\n",
    "\\\"Se é assim, ele pode ser, \\n \\\n",
    "e se não é, será; mas como não é não se preocupa. \\\n",
    "Isto é lógica.\\\" \"\n",
    "print(H)"
   ]
  },
  {
   "cell_type": "markdown",
   "metadata": {},
   "source": [
    "#### As strings são Imutáveis\n",
    "[unicode: descrição e exemplos]\n",
    "\n",
    "[seria mais lógico iniciar o estudo com listas, tuplos diferença entre estruturas mutáveis e imotáveis]\n",
    "Isso significa que, como constantes literais, uma vez definida uma string, esta não pode sofrer alterações. \n",
    "\n",
    "#### Concatenação de Literais do Tipo String\n",
    "\n",
    "Quando numa linha de código duas strings são postas lado a lado, o interpretador faz a sua concatenação. Por exemplo:"
   ]
  },
  {
   "cell_type": "code",
   "execution_count": 49,
   "metadata": {
    "collapsed": false
   },
   "outputs": [
    {
     "name": "stdout",
     "output_type": "stream",
     "text": [
      "Originalmente a lógica lidava com linguagem natural\n"
     ]
    }
   ],
   "source": [
    "H='Originalmente' ' a lógica lidava' ' com linguagem natural'\n",
    "print(H)"
   ]
  },
  {
   "cell_type": "markdown",
   "metadata": {},
   "source": [
    "De forma mais descritiva pode-se recorrer ao operador +:"
   ]
  },
  {
   "cell_type": "code",
   "execution_count": 50,
   "metadata": {
    "collapsed": false
   },
   "outputs": [
    {
     "name": "stdout",
     "output_type": "stream",
     "text": [
      "Seria útil demonstrar a correcção dum argumento.\n"
     ]
    }
   ],
   "source": [
    "H='Seria útil'+' demonstrar a correcção'+' dum argumento.'\n",
    "print(H)"
   ]
  },
  {
   "cell_type": "markdown",
   "metadata": {},
   "source": [
    "### Variáveis\n",
    "As variáveis podem ser usadas para referenciar literais, por forma a permitir o seu tratamento e manipulação.  De forma genérica, uma  variável pode ser entendida como uma referência a uma parte da memória do computador onde está armazenada informação. Diferindo das constantes literais, uma vez que o seu significado pode variar no decurso do programa.\n"
   ]
  },
  {
   "cell_type": "code",
   "execution_count": 51,
   "metadata": {
    "collapsed": false
   },
   "outputs": [
    {
     "name": "stdout",
     "output_type": "stream",
     "text": [
      "Seria útil demonstrar a correcção dum argumento.\n"
     ]
    }
   ],
   "source": [
    "H1 = 'Seria útil '\n",
    "H2 = 'demonstrar a correcção '\n",
    "H3 = 'dum argumento.'\n",
    "print(H1+H2+H3)"
   ]
  },
  {
   "cell_type": "markdown",
   "metadata": {},
   "source": [
    "No exemplo H1, H2 e H3 são usadas para identificar três strings, cuja concatenação é imprimida na *shell* través do comando *print*.\n",
    "\n",
    "As variáveis são entendidas como identificadores. Entendendo-se por identificador um nome dado para identificar um objecto. Existem regras para descrever os identificadores:\n",
    "\n",
    "- O primeiro caracter do identificador tem de ser uma letra do alfabeto (maiúsculo ASCII ou minúsculo ASCII) ou um *'\\_'*.\n",
    "-  O resto do nome do identificador pode consistir de letras (maiúsculo ASCII ou minúsculo ASCII), *'\\_'* ou dígitos (0-9).\n",
    "- Nomes de identificadores são \\textit{case-sensitive}. Por exemplo, myname e myName são identificadores diferentes. \n",
    "\n",
    "Exemplos de nomes de identificadores válidos são *i*, *\\_\\_my\\_name*, *name\\_23* e *a1b2\\_c3*.  Exemplos de nomes de identificadores inválidos são *2things* e *my-name*.\n"
   ]
  },
  {
   "cell_type": "code",
   "execution_count": 52,
   "metadata": {
    "collapsed": false
   },
   "outputs": [
    {
     "name": "stdout",
     "output_type": "stream",
     "text": [
      "5\n",
      "6\n",
      "Esta é uma string de múltiplas linhas.\n",
      "Esta é a segunda linha.\n"
     ]
    }
   ],
   "source": [
    "\n",
    "i = 5\n",
    "print(i) \n",
    "\n",
    "i = i + 1\n",
    "print(i)\n",
    "\n",
    "s = '''Esta é uma string de múltiplas linhas.\n",
    "Esta é a segunda linha.'''\n",
    "print(s)"
   ]
  },
  {
   "cell_type": "markdown",
   "metadata": {},
   "source": [
    "No programa começamos por atribuir o valor constante literal *5* à variável *i* através do *operador de atribuição* (=). Uma linha deste tipo é designada de instrução, e indica neste caso, que passámos a referenciar através do nome da variável *i* o objecto *5*. Em seguida, imprime-se o valor de *i* através do comando *print*, que imprime o valor da variável na *shell*.\n",
    "\n",
    "Na instrução seguinte somamos *1* ao valor referenciado por *i*. A partir deste momento *i* passa a referenciar o objecto *6*. Em seguida, imprime-se o valor de *i*, agora *6*.\n",
    "\n",
    "Como já se tinha feito na secção anterior, de forma análoga referencia-se um objecto *string*  pela variável *s*, que depois se imprime. \n",
    "\n",
    "#### Linhas Lógicas e Físicas\n",
    "\n",
    "As linhas físicas são aquelas que escrevemos num editor a quando  da definição dum programa. Uma linha lógica é a que o interpretador de Python entende por uma única instrução. O Python implicitamente assume que cada linha física corresponde a uma linha lógica.\n",
    "\n",
    "Um exemplo de uma linha lógica é uma instrução como print('Sócrates é mortal') caso esteja escrita no editor numa única linha, deve também ser entendida como uma linha física.\n",
    "\n",
    "Implicitamente, Python incentiva o uso de uma única instrução por linha, com o propósito de tornar o código mais legível.\n",
    "\n",
    "Se pretende definir mais do que uma linha lógica numa única linha física, então deve separar as linhas lógicas através de um ponto-e-virgula (';') para indicar o fim de cada linha lógica ou instrução. Por exemplo, "
   ]
  },
  {
   "cell_type": "code",
   "execution_count": 53,
   "metadata": {
    "collapsed": false
   },
   "outputs": [
    {
     "name": "stdout",
     "output_type": "stream",
     "text": [
      "5\n"
     ]
    }
   ],
   "source": [
    "i = 5\n",
    "print(i)"
   ]
  },
  {
   "cell_type": "markdown",
   "metadata": {},
   "source": [
    "é o mesmo que "
   ]
  },
  {
   "cell_type": "code",
   "execution_count": 54,
   "metadata": {
    "collapsed": false
   },
   "outputs": [
    {
     "name": "stdout",
     "output_type": "stream",
     "text": [
      "5\n"
     ]
    }
   ],
   "source": [
    "i = 5; print(i)"
   ]
  },
  {
   "cell_type": "markdown",
   "metadata": {},
   "source": [
    "Voltando a um exemplo anterior:"
   ]
  },
  {
   "cell_type": "code",
   "execution_count": 55,
   "metadata": {
    "collapsed": false
   },
   "outputs": [
    {
     "name": "stdout",
     "output_type": "stream",
     "text": [
      "\"Reciprocamente\", continuou Tweedledee, \"Se é assim, ele pode ser, \n",
      " e se não é, será; mas como não é não se preocupa. Isto é lógica.\" \n"
     ]
    }
   ],
   "source": [
    "H=   \"\\\"Reciprocamente\\\", continuou Tweedledee, \\\n",
    "\\\"Se é assim, ele pode ser, \\n \\\n",
    "e se não é, será; mas como não é não se preocupa. \\\n",
    "Isto é lógica.\\\" \"\n",
    "print(H)"
   ]
  },
  {
   "cell_type": "markdown",
   "metadata": {},
   "source": [
    "O objecto string que passa a ser referenciado por *H* deve ser entendido como definido numa única linha lógica, apesar de ocupar diferentes linhas físicas.  \n",
    "\n",
    "Neste sentido usa-se ; (ponto-e-virgula) para separar linhas lógicas na mesma linha física, enquanto $\\setminus$ para separar uma linha lógica em diferentes linhas físicas.\n",
    "\n",
    "### Identação\n",
    "\n",
    "Os espaços em  branco são muito importantes no Python. Na verdade, os espaços brancos no início de uma linha definem a estrutura do programa. Nesta situação são designados de identação. Os espaços ou tabulações no início de uma linha determinam o nível de identação de uma linha lógica, que por sua vez agrupam instruções. Significando isto que linhas com o mesmo nível de identação são executadas em sequência. Estes conjuntos de instruções são designados blocos. Tenta-se ao longo do texto descrever a importância dos blocos.  \n",
    "\n",
    "Note que, má identação pode originar erros a quando da execução. Por exemplo:"
   ]
  },
  {
   "cell_type": "code",
   "execution_count": 56,
   "metadata": {
    "collapsed": false
   },
   "outputs": [
    {
     "ename": "IndentationError",
     "evalue": "unexpected indent (<ipython-input-56-cafa8a948aa6>, line 2)",
     "output_type": "error",
     "traceback": [
      "\u001b[1;36m  File \u001b[1;32m\"<ipython-input-56-cafa8a948aa6>\"\u001b[1;36m, line \u001b[1;32m2\u001b[0m\n\u001b[1;33m    print('São ', i) # Erro! Existe um espaço no início da linha\u001b[0m\n\u001b[1;37m    ^\u001b[0m\n\u001b[1;31mIndentationError\u001b[0m\u001b[1;31m:\u001b[0m unexpected indent\n"
     ]
    }
   ],
   "source": [
    "i = 5\n",
    " print('São ', i) # Erro! Existe um espaço no início da linha\n",
    "print('São,',i,' os macacos.')"
   ]
  },
  {
   "cell_type": "markdown",
   "metadata": {},
   "source": [
    "Note-se que, existe um espaço simples no início da segunda linha. O erro indica que a sintaxe do programa está incorrecta, ou seja, o programa não está escrito com a estrutura correcta. Não podemos iniciar novos blocos de instruções arbitrariamente (com excepção do inicial). Os casos onde se podem usar novos blocos são apresentados ao longo do capítulo.\n",
    "\n",
    "#### Como identar\n",
    "\n",
    "Não misturar tabulações com espaços a quando da identação, já que nem todas as plataformas a suportam. É recomendado o uso de uma tabulação, ou dois espaços ou quatro espaços para distinguir cada nível de identação. Escolha um destes estilos de identação. Mais importante que a escolha que faz, deve manter-se consistente a ela, ou seja, mantenha apenas um tipo de identação ao longo de todo o código. "
   ]
  },
  {
   "cell_type": "markdown",
   "metadata": {},
   "source": [
    "### Operadores e Expressões\n",
    "\n",
    "#### Introdução\n",
    "A maioria das instruções (linhas lógicas) que escreve contêm expressões. Um exemplo simples de uma expressão é 2+3. Uma expressão pode ser partida em operador e operandos. Os operadores são funções que podem ser identificadas por símbolos, como +, ou palavras especiais.\n",
    "Os operadores requerem argumentos, que chamamos de operandos. No exemplo anterior, 2 e 3 são operandos.\n",
    "\n",
    "#### Operandos\n",
    "Uma expressão pode ser avaliada no operador interactivamente.\n",
    "\n",
    "Por exemplo, para testar a expressão 2+3, usamos a \\textit{prompt} do interpretador de Python:"
   ]
  },
  {
   "cell_type": "code",
   "execution_count": null,
   "metadata": {
    "collapsed": false
   },
   "outputs": [],
   "source": [
    "2+3"
   ]
  },
  {
   "cell_type": "code",
   "execution_count": null,
   "metadata": {
    "collapsed": false
   },
   "outputs": [],
   "source": [
    "3*5"
   ]
  },
  {
   "cell_type": "markdown",
   "metadata": {},
   "source": [
    "\n",
    "Operador  |    Nome     |     Explicação\n",
    "----------|-------------|---------------------\n",
    "+         | Adição      | Soma dois objectos\n",
    "-         | Subtracção  | Define um número negativo ou a subtracção de um número por outro\n",
    "*         | Multiplicação|  Devolve o produto de dois números ou uma string repetida uma certa quantidade de vezes\n",
    "\\**        | Potência | Retorna x elevado à potência de y\n",
    "/          | Divisão  | Divide x por y\n",
    "//         | Divisão Inteira | Devolve a parte inteira do quociente\n",
    "\\% | Modulo| Devolve o resto da divisão inteira\n",
    "< | Menor que | Compara x a y. Devolvendo True(verdadeiro) se x é menor que y, e False(falso) caso contrário\n",
    "\\> | Maior que | Devolvendo True se x é maior que y, e False caso contrário.\n",
    "<= | Menor ou igual a | Devolvendo True se x é menor ou igual a y, e False caso contrário.\n",
    "\\>= | Maior ou igual a | Devolvendo True se x é maior ou igual a y, e False caso contrário.\n",
    "== | Igual a | Avalia se os objectos são iguais\n",
    "!= | Diferente de | Avalia se os objectos são diferentes\n",
    "not | Operador booleano NOT | Se x é True, devolve False. Se x é False, ele devolve True.\n",
    "and | Operador booleano AND | x and y devolve False se x é False, senão devolve a avaliação de y.\n",
    "or | Operador booleano OR |\tSe x é True, devolve True, senão devolve a avaliação de y."
   ]
  },
  {
   "cell_type": "markdown",
   "metadata": {},
   "source": [
    "### Controlo do fluxo de programas\n",
    "\n",
    "Os programas que vimos até aqui, são descritos por uma série de declarações e o interpretador de Python executa-as seguindo uma ordem estipulada. Como alterar o fluxo execução? Por exemplo, se pretende que o programa tome algumas decisões e faça diferentes coisas dependendo das diferentes situações, como imprimir 'Bom Dia' ou 'Boa Tarde' dependendo da hora do dia.\n",
    "\n",
    "Isto é consumado usando as instruções de controle de fluxo no Python *if*, *for* e *while*, permitindo executar um ou mais blocos de instruções apenas ou enquanto uma condição for verdadeira.\n",
    "\n",
    "#### Blocos controlados por um *if*\n",
    "A instrução *if* é usada para avaliar uma condição e se a condição é verdadeira, é executado um bloco de instruções (a que chamamos de *bloco-if* (*if-block*)), senão é executado outro bloco de instruções (a que chamamos de *bloco-else* (*else-block*)). A cláusula *else* é opcional. "
   ]
  },
  {
   "cell_type": "code",
   "execution_count": null,
   "metadata": {
    "collapsed": false
   },
   "outputs": [],
   "source": [
    "#!/usr/bin/python\n",
    "# Nome do ficheiro: if.py\n",
    "\n",
    "number = 23\n",
    "guess = int(input('Qual é o número inteiro? '))\n",
    "\n",
    "if guess == number:\n",
    "    print('Parabéns, você acertou.') # Novo bloco começa aqui\n",
    "    print('Tenha um bom dia...') # Novo bloco termina aqui\n",
    "elif guess < number:\n",
    "    print('Não, é maior que isso.')  # Outro bloco\n",
    "    # O bloco pode conter uma ou mais linhas ...\n",
    "else:\n",
    "    print('Não, é menor que isso.')\n",
    "\n",
    "print('Adeus.') \n",
    "# Esta última instrução é sempre executada, depois da instrução if \n",
    "# ser executada"
   ]
  },
  {
   "cell_type": "markdown",
   "metadata": {},
   "source": [
    "Neste programa, é inquirido o utilizador por um número inteiro e é verificado se este é igual a um número escondido. Usa-se uma variável *number* para referenciar o inteiro a adivinhar, neste caso *number = 23*. O utilizador tem apenas uma tentativa para adivinhar o número. A hipótese do utilizador é feita através da função *input()*. Uma função é entendida aqui como um módulo ou bloco de código reutilizável. \n",
    "\n",
    "A função *input()*, cria uma *prompt* com o argumento da função na shell, e espera que o utilizador escreva uma cadeia de caracteres (*string*).  A *string* que o utilizador fornece é usada como valor de saída da função. A função *int()*, converte essa *string* para um inteiro, passado a ser referenciado pela variável *guess*. Genericamente a função *int()* permite, sempre que possível, converter objectos para *string*. Neste caso é usada para converter uma cadeia de caracteres para um inteiro.\n",
    "\n",
    "Em seguida, é comparado o inteiro referenciado pela variável *guess* com o número referenciado por *number*. Se eles forem iguais, imprime-se uma mensagem a felicitar o utilizador. Note que são utilizados níveis de identação para informar o interpretador de Python que a sequência de instruções pertence a um bloco. \n",
    "\n",
    "Note que a linha da instrução *if* termina com ``dois pontos'' indicando que a seguir há um bloco de instruções.\n",
    "\n",
    "Caso a tentativa do utilizador seja menor que o número referenciado pela variável *number*, informa-se que tente na próxima execução  um número maior que o número da presente tentativa. Usa-se aqui uma cláusula *elif* para reduz a quantidade de identações requeridas.\n",
    "\n",
    "Note-se que as linhas das instruções *elif* e *else* também terminam com ``dois pontos'', sendo seguidas pelo seu bloco de instruções que controlam.\n",
    "\n",
    "Devemos realçar que as partes *elif* e *else* são opcionais. Uma instrução *if* mínima válida assume a forma: "
   ]
  },
  {
   "cell_type": "code",
   "execution_count": null,
   "metadata": {
    "collapsed": true
   },
   "outputs": [],
   "source": [
    "if True:\n",
    "    print('Sim, é verdade')   "
   ]
  },
  {
   "cell_type": "markdown",
   "metadata": {},
   "source": [
    "Após ser executada a instrução *if*, *elif* e *else* que lhe estão associadas, a execução passa para o próximo bloco de instruções. Neste caso, volta ao  bloco principal onde encontra a instrução *print 'Adeus.'*. Após executar esta linha de código, o interpretador termina a execução do código. \n",
    "\n",
    "Na verdade, não é muito prático ter de executar o programa sempre que se quer fazer uma nova tentativa. Tentemos resolver o problema."
   ]
  },
  {
   "cell_type": "markdown",
   "metadata": {},
   "source": [
    "#### Ciclos *while*\n",
    "\n",
    "A instrução *while* permite executar repetidamente um bloco de instruções, enquanto uma condição for verdadeira. Uma instrução *while* pode ter uma cláusula *else* opcional."
   ]
  },
  {
   "cell_type": "code",
   "execution_count": null,
   "metadata": {
    "collapsed": true
   },
   "outputs": [],
   "source": [
    "#!/usr/bin/python\n",
    "# Nome do ficheiro: while.py\n",
    "\n",
    "number = 23\n",
    "running = True\n",
    "\n",
    "while running:\n",
    "    guess = int(input('Qual é o número inteiro?')\n",
    "\n",
    "    if guess == number:\n",
    "        print('Parabéns, você acertou.') \n",
    "        running = False # Isto faz o loop while parar\n",
    "    elif guess < number:\n",
    "        print('Não, é maior que isso.')  \n",
    "    else:\n",
    "        print('Não, é menor que isso.')\n",
    "else:\n",
    "    print('O loop while terminou.')\n",
    "    \n",
    "print('Adeus.')"
   ]
  },
  {
   "cell_type": "markdown",
   "metadata": {},
   "source": [
    "Neste programa, melhorámos o jogo anterior, tendo a vantagem de se poder fazer várias tentativas na mesma execução, terminando apenas quando se acerta no número. Tenta-se assim exemplificar o uso do ciclo *while*.\n",
    "\n",
    "Neste código a função *input* e o bloco *if*, do programa anterior formam um bloco controlado pelo *while*. É adicionada, antes do bloco *while*, uma nova variável *unning*, que é iniciada como referenciando o valor de verdade *True*. Como a condição que controla o *while* é verdadeira, o bloco controlado pelo *while* é executado. Após a execução deste bloco de instruções, a condição é novamente avaliada. Se *running* continua a referenciar verdade, o bloco while volta a ser executado, caso contrário, se *running* passa a  referenciar falso, a execução passa para o bloco opcional *else*, findo o qual passa a executar instruções no bloco principal.\n",
    "\n",
    "Neste sentido, o bloco *else* é executado quando a condição que controla o *while* se torna *False* que pode acontecer na primeira avaliação da condição. Se existir uma cláusula *else* no ciclo *while*, este é sempre executado a menos que o ciclo *while* nunca termine.\n",
    "\n",
    "Os valores *True* (verdadeiro) e *False* (falso) são designados de objectos de tipo Booleano ou valores de verdade.\n",
    "\n",
    "Note-se que, um bloco else num ciclo *while* é redundante, já que se este bloco for usado no bloco anterior ao do *while* o programa tem o mesmo comportamento.\n",
    "\n"
   ]
  },
  {
   "cell_type": "markdown",
   "metadata": {},
   "source": [
    "#### Ciclo *for*\n",
    "\n",
    "A instrução *for <var> in <objecto>* permite impor a execução cíclica de um conjunto de instruções, por exemplo, executa o bloco para cada item numa sequência. "
   ]
  },
  {
   "cell_type": "code",
   "execution_count": null,
   "metadata": {
    "collapsed": true
   },
   "outputs": [],
   "source": [
    "#!/usr/bin/python\n",
    "# Nome do ficheiro: for.py\n",
    "\n",
    "for i in range(1, 5):\n",
    "    print i\n",
    "else:\n",
    "    print('O ciclo terminou.')"
   ]
  },
  {
   "cell_type": "markdown",
   "metadata": {},
   "source": [
    "Neste programa, imprime-se uma sequência de números. A sequência de objectos a imprimir é gerada através da função interna *range*.\n",
    "\n",
    "A função *range*, possibilita a utilização de dois argumentos numéricos, devolvendo uma sequência de números tendo início no primeiro argumento, que incrementa sucessivamente uma unidade, terminando antes de alcançar o segundo. No exemplo, usa-se *range(1,5)* originando a sequência [1, 2, 3, 4]. O incremento desta função entre cada objecto na lista pode ser controlado usando um terceiro argumento.  Por exemplo, *range(1,5,2)* devolve uma referência para o objecto [1,3]. Note-se que na função *range* o segundo argumento funciona como limite da sequência, nunca sendo alcançado.\n",
    "\n",
    "No ciclo *for i in range(1,5)* é equivalente a *for i in [1, 2, 3, 4]* em cada execução do bloco de instruções que controla *i*, assume valores diferentes, um por cada valor na lista *[1, 2, 3, 4]*. Na primeira execução i referencia o inteiro 1, na segunda execução i referencia o inteiro 2, na terceira execução i referencia o inteiro 3 e na quarta execução i referencia o inteiro 4. Em cada uma destas execuções imprimimos o valor de i, sendo este bloco executado 4 e apenas quatro vezes, tantas vezes quanto o número de objectos que definem a lista. Findo o qual imprime ``O ciclo terminou''.    \n",
    "\n",
    "Lembre-se que a parte else é opcional. Quando incluída, ela será sempre executada uma vez após o ciclo for ter terminado, a não ser que uma instrução *break* seja encontrada.\n",
    "\n",
    "Devemos notar que o ciclo ``for <var> in <objecto>'', pode iterar em qualquer objecto iterável. Aqui temos uma lista de números, em geral, podemos usar por exemplo objectos do tipo tuplo, conjunto, string ou lista genérica.\n"
   ]
  },
  {
   "cell_type": "markdown",
   "metadata": {},
   "source": [
    "#### A instrução *break*\n",
    "A instrução *break* é usada para impedir a continuação da execução dum ciclo. Permitindo por exemplo terminar um ciclo *while* sem que a condição que a controla se torne falsa.\n",
    "\n",
    "Deve no entanto notar que quando usada em ciclos *for* ou *while*, os correspondentes bloco *else* não são executados.\n"
   ]
  },
  {
   "cell_type": "code",
   "execution_count": null,
   "metadata": {
    "collapsed": true
   },
   "outputs": [],
   "source": [
    "#!/usr/bin/python\n",
    "# Nome do ficheiro: break.py\n",
    "\n",
    "while True:\n",
    "    s = input('Diga alguma coisa: ')\n",
    "    if s == 'vai dar uma volta':\n",
    "        break\n",
    "    print('Hoje não está muito comunicativo.')\n",
    "    print('Escreveu', len(s),' caracteres.')\n",
    "print('Então adeus ;-(')"
   ]
  },
  {
   "cell_type": "markdown",
   "metadata": {},
   "source": [
    "Neste programa, a cada entrada de valores o programa imprime \"Hoje não está muito comunicativo.\", indicando de seguida o número de caracteres usados. Sendo o comportamento alterado sempre que escrever \"vai dar uma volta\". Neste caso o ciclo termina executando *break*, voltando ao bloco principal, imprime \"Então adeus ;-(\" e termina o programa.\n",
    "\n",
    "O tamanho duma string é determinada através da função interna *len*.\n",
    "\n",
    "Lembre-se que a instrução *break* pode também ser usada com o ciclos *for*. No entanto, apesar desta instrução facilitar a implementação de certos algoritmos, vamos tentar aqui evitar a sua utilização.  \n"
   ]
  },
  {
   "cell_type": "markdown",
   "metadata": {},
   "source": [
    "## Exercícios de Python"
   ]
  },
  {
   "cell_type": "markdown",
   "metadata": {},
   "source": [
    "##### Exercício:\n",
    "Escreva a função abaixo a função:\n",
    "\n",
    "    def mod3(n):\n",
    "        return n % 3\n",
    "\n",
    "e execute-a para diferentes argumentos inteiros. Qual a interpretação para o operador % em Python? Qual o comportamento da função para números negativos?"
   ]
  },
  {
   "cell_type": "code",
   "execution_count": 1,
   "metadata": {
    "collapsed": true
   },
   "outputs": [],
   "source": [
    "def mod3(n):\n",
    "    return n % 3"
   ]
  },
  {
   "cell_type": "code",
   "execution_count": 2,
   "metadata": {
    "collapsed": false
   },
   "outputs": [
    {
     "data": {
      "text/plain": [
       "0"
      ]
     },
     "execution_count": 2,
     "metadata": {},
     "output_type": "execute_result"
    }
   ],
   "source": [
    "mod3(3)"
   ]
  },
  {
   "cell_type": "markdown",
   "metadata": {},
   "source": [
    "##### Exercício:\n",
    "Defina a função incrementaUmaUnidade, que tenha por argumento $x$ e devolva $x+1$. Teste a sua função para $x=3$, $x=5$ e $x=1.5$."
   ]
  },
  {
   "cell_type": "code",
   "execution_count": null,
   "metadata": {
    "collapsed": true
   },
   "outputs": [],
   "source": []
  },
  {
   "cell_type": "code",
   "execution_count": null,
   "metadata": {
    "collapsed": true
   },
   "outputs": [],
   "source": []
  },
  {
   "cell_type": "markdown",
   "metadata": {},
   "source": [
    "##### Exercício:\n",
    "Defina a função somaDe1AteN(n), que devolve $1+2+\\ldots+n$ usando a fórmula $1+2+\\ldots+n=\\frac{n(n+1)}{2}$. Teste a função para vários valores de $n$."
   ]
  },
  {
   "cell_type": "markdown",
   "metadata": {},
   "source": [
    "##### Exercício:\n",
    "Defina a função inverso(x), que devolve $1/x$. Aplique a função para $x=0$. Como é que o Python trata o domínio natural duma função?\\label{inverso}"
   ]
  },
  {
   "cell_type": "markdown",
   "metadata": {},
   "source": [
    "##### Exercício:\n",
    "Assumindo definida a função duplica(x), que devolve $2x$, e a função incrementaUmaUnidade(x), dum exercício anterior. Qual é o resultado de duplica(incrementaUmaUnidade(6))? Qual é o resultado de incrementaUmaUnidade(duplica(6))}? Explique esses resultados."
   ]
  },
  {
   "cell_type": "markdown",
   "metadata": {},
   "source": [
    "##### Exercício:\n",
    "Tente executar incrementaUmaUnidade, dum exercício anterior com argumento '123'. Podemos adicionar um número a uma string em Python?"
   ]
  },
  {
   "cell_type": "markdown",
   "metadata": {},
   "source": [
    "##### Exercício:\n",
    "Tente executar duplica, dum exercício anterior com argumento '123'. Qual o comportamento do operador $\\ast$ quando tem por operandos um inteiro e uma string?"
   ]
  },
  {
   "cell_type": "markdown",
   "metadata": {},
   "source": [
    "##### Exercício:\n",
    "No Python, se s é uma string, s[0] identifica o primeiro caracter. Defina e teste uma função que quando aplicada a uma string devolva o seu primeiro caracter."
   ]
  },
  {
   "cell_type": "markdown",
   "metadata": {},
   "source": [
    "##### Exercício:\n",
    "No Python, [a, b, c, $\\ldots$, x] representa uma lista de objectos. Por exemplo [1, 5, 2] representa a lista com três números: 1, 5 e 2. Qual é o comportamento da função dum exercício anterior quando tem por argumento uma lista?"
   ]
  },
  {
   "cell_type": "markdown",
   "metadata": {},
   "source": [
    "##### Exercício:\n",
    "Qual o resultado de aplicar as funções $sum$, $min$ e $max$ (funções pré-definidas) a uma lista de números?"
   ]
  },
  {
   "cell_type": "markdown",
   "metadata": {},
   "source": [
    "##### Exercício:\n",
    "Qual o resultado de executar $min(range(n))$ e $max(range(n))$, quando $n$ é um inteiro positivo?"
   ]
  },
  {
   "cell_type": "markdown",
   "metadata": {},
   "source": [
    "##### Exercício:\n",
    "Reescreva a função somaDe1AteN do exercício anterior por forma a usar funções apresentadas nos exercícios sum e range."
   ]
  },
  {
   "cell_type": "markdown",
   "metadata": {},
   "source": [
    "##### Exercício:\n",
    "Explique o resultado da execução de 2+-2 e 2++2."
   ]
  },
  {
   "cell_type": "code",
   "execution_count": 3,
   "metadata": {
    "collapsed": false
   },
   "outputs": [
    {
     "data": {
      "text/plain": [
       "0"
      ]
     },
     "execution_count": 3,
     "metadata": {},
     "output_type": "execute_result"
    }
   ],
   "source": [
    "2+-2"
   ]
  },
  {
   "cell_type": "code",
   "execution_count": 4,
   "metadata": {
    "collapsed": false
   },
   "outputs": [
    {
     "data": {
      "text/plain": [
       "4"
      ]
     },
     "execution_count": 4,
     "metadata": {},
     "output_type": "execute_result"
    }
   ],
   "source": [
    "2++2"
   ]
  },
  {
   "cell_type": "markdown",
   "metadata": {},
   "source": [
    "##### Exercício:\n",
    "Experimente 2+++2. Explique o resultado."
   ]
  },
  {
   "cell_type": "code",
   "execution_count": null,
   "metadata": {
    "collapsed": true
   },
   "outputs": [],
   "source": []
  },
  {
   "cell_type": "markdown",
   "metadata": {},
   "source": [
    "##### Exercício:\n",
    "Experimente 2**3 e 2**4. Descreva o comportamento do operador **."
   ]
  },
  {
   "cell_type": "code",
   "execution_count": null,
   "metadata": {
    "collapsed": true
   },
   "outputs": [],
   "source": []
  },
  {
   "cell_type": "markdown",
   "metadata": {},
   "source": [
    "##### Exercício:\n",
    "Experimente \"abc\" + \"def\" e 'abc' + 'def'. Descreva o comportamento do operador + quando aplicado a strings."
   ]
  },
  {
   "cell_type": "code",
   "execution_count": null,
   "metadata": {
    "collapsed": true
   },
   "outputs": [],
   "source": []
  },
  {
   "cell_type": "markdown",
   "metadata": {},
   "source": [
    "##### Exercício:\n",
    "O operador * pode ser aplicado a strings? Experimente $3\\ast$'12' e explique o resultado."
   ]
  },
  {
   "cell_type": "code",
   "execution_count": null,
   "metadata": {
    "collapsed": true
   },
   "outputs": [],
   "source": []
  },
  {
   "cell_type": "markdown",
   "metadata": {},
   "source": [
    "##### Exercício:\n",
    "Execute 9-8*2+6 e (5-1)*(1+2)**3. Qual a ordem de precedência dos operadores usados nas expressões?"
   ]
  },
  {
   "cell_type": "code",
   "execution_count": null,
   "metadata": {
    "collapsed": true
   },
   "outputs": [],
   "source": []
  },
  {
   "cell_type": "markdown",
   "metadata": {},
   "source": [
    "##### Exercício:\n",
    "Definindo a função:\n",
    "\n",
    "    def inverso(x):\n",
    "        return 1/x\n",
    "\n",
    "Qual o resultado de executar"
   ]
  },
  {
   "cell_type": "code",
   "execution_count": 5,
   "metadata": {
    "collapsed": true
   },
   "outputs": [],
   "source": [
    "def inverso(x):\n",
    "        return 1/x"
   ]
  },
  {
   "cell_type": "code",
   "execution_count": null,
   "metadata": {
    "collapsed": true
   },
   "outputs": [],
   "source": [
    "1 + inverso(2*5)"
   ]
  },
  {
   "cell_type": "markdown",
   "metadata": {},
   "source": [
    "Como é feita a avaliação quando um dos operadores é uma função? Como é feita a avaliação quando uma função é aplicada a uma expressão?"
   ]
  },
  {
   "cell_type": "code",
   "execution_count": null,
   "metadata": {
    "collapsed": true
   },
   "outputs": [],
   "source": []
  },
  {
   "cell_type": "markdown",
   "metadata": {},
   "source": [
    "##### Exercício:\n",
    "A função abaixo devolve o primeiro caracter duma \\emph{string}:"
   ]
  },
  {
   "cell_type": "code",
   "execution_count": 6,
   "metadata": {
    "collapsed": true
   },
   "outputs": [],
   "source": [
    "def primeiro(s):\n",
    "    return s[0]"
   ]
  },
  {
   "cell_type": "markdown",
   "metadata": {},
   "source": [
    "Adicione à função uma \\emph{string} de documentação. Execute:"
   ]
  },
  {
   "cell_type": "code",
   "execution_count": 7,
   "metadata": {
    "collapsed": false
   },
   "outputs": [
    {
     "data": {
      "text/plain": [
       "'B'"
      ]
     },
     "execution_count": 7,
     "metadata": {},
     "output_type": "execute_result"
    }
   ],
   "source": [
    "primeiro('Bom dia')"
   ]
  },
  {
   "cell_type": "markdown",
   "metadata": {},
   "source": [
    "e de executar"
   ]
  },
  {
   "cell_type": "code",
   "execution_count": 8,
   "metadata": {
    "collapsed": true
   },
   "outputs": [],
   "source": [
    "primeiro.__doc__"
   ]
  },
  {
   "cell_type": "markdown",
   "metadata": {},
   "source": [
    "##### Exercício:\n",
    "Identifique os erros de sintaxe na definição da função abaixo:"
   ]
  },
  {
   "cell_type": "code",
   "execution_count": null,
   "metadata": {
    "collapsed": true
   },
   "outputs": [],
   "source": [
    "def codigoErrado(x):\n",
    "    Return X**2 - 1"
   ]
  },
  {
   "cell_type": "markdown",
   "metadata": {},
   "source": [
    "##### Exercício:\n",
    "No Python, *s[-1]* identifica a último caracter duma string *s* (ou o último elemento duma lista *s*). Escreva uma função em que, de uma string *s* construa uma nova string contendo dois caracteres: o primeiro e o último caracter em *s*. Introduza um string de documentação no seu código."
   ]
  },
  {
   "cell_type": "code",
   "execution_count": null,
   "metadata": {
    "collapsed": true
   },
   "outputs": [],
   "source": []
  },
  {
   "cell_type": "code",
   "execution_count": null,
   "metadata": {
    "collapsed": true
   },
   "outputs": [],
   "source": []
  },
  {
   "cell_type": "markdown",
   "metadata": {},
   "source": [
    "### Referências\n",
    "\n",
    "\n",
    "- [1] Al Sweigart, 2015 [Automate the Boring Stuff with Python: Practical Programming for Total Beginners](https://automatetheboringstuff.com/).\n",
    "- [2] Swaroop C. H. \"A Byte of Python.\" <http://www.swaroopch.com/notes/python/>."
   ]
  }
 ],
 "metadata": {
  "kernelspec": {
   "display_name": "Python 3",
   "language": "python",
   "name": "python3"
  },
  "language_info": {
   "codemirror_mode": {
    "name": "ipython",
    "version": 3
   },
   "file_extension": ".py",
   "mimetype": "text/x-python",
   "name": "python",
   "nbconvert_exporter": "python",
   "pygments_lexer": "ipython3",
   "version": "3.5.1"
  }
 },
 "nbformat": 4,
 "nbformat_minor": 0
}
