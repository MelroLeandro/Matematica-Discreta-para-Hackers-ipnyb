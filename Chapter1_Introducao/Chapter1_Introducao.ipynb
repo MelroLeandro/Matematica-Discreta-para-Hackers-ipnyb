{
 "cells": [
  {
   "cell_type": "markdown",
   "metadata": {},
   "source": [
    "[Matemática Discreta para Hackers](https://github.com/MelroLeandro/Matematica-Discreta-para-Hackers)\n",
    "====="
   ]
  },
  {
   "cell_type": "markdown",
   "metadata": {},
   "source": [
    "Capítulo 1 - Introdução Python\n",
    "======\n",
    "***"
   ]
  },
  {
   "cell_type": "markdown",
   "metadata": {},
   "source": [
    "Liguagem de programação\n",
    "------\n",
    "\n",
    " \n",
    "Muito pode ser dito sobre as linguagens de programação, a sua história já é longa e rica. Nesta secção vamos restringir a apresentação ao que achamos essencial para enquadrar a linguagem de programação Python no contexto atual do desenvolvimento tecnológico.\n",
    "\n"
   ]
  },
  {
   "cell_type": "markdown",
   "metadata": {},
   "source": [
    "Python\n",
    "------\n",
    "\n",
    "A linguagem de programação Python é constituída por diferentes construções sintáticas, uma grande variedade de funções em bibliotecas e estruturas de dados standard à linguagem. Formalmente podemos ignorar grande parte destes atributos, para o tipo de aplicações que temos em mente. Pretendemos implementar simples funções ou pequenos programas com o propósito de resolver problemas de matemática discreta e incentivar o seu estudo mais aprofundado. A complexidade dos problemas serão incrementado progressivamente ao longo dos Capítulos. O que inicialmente são pequenos scripts, com meia dúzia de linhas de programação, nos últimos Capítulos do livro vai exigir a utilização de vários módulos descritos em ficheiros separados. Nesse sentido, a parte inicial, ou nos capítulos iniciais, a execução das linhas de comando faz-se usando Jupyter Notebooks. Na parte final deste Notebook, passa a ser preciso a utilização dum editor de texto ou de um ambiente de programação. Aqui usamos o IDLE que apesar das suas limitações é usado aqui como ambiente de desenvolvimento standard.\n",
    "\n",
    "Temos no entanto de aprender alguns conceitos de programação básicos antes de podermos resolver qualquer problema. Os exemplos de utilização são apresentados após apresentação de um enquadramento teórico, nos Capítulos seguintes.\n",
    "\n",
    "-- execução do código --\n",
    "\n",
    "-- interpretador de Python  --"
   ]
  },
  {
   "cell_type": "markdown",
   "metadata": {},
   "source": [
    "#### Fundamentos\n",
    "\n",
    "Um Notebook é uma sequência de células, que aqui são de dois tipos. As células que contém texto, como esta que está a ler, designaremos de células de texto. O espaço abaixo representa uma célula de execução. O conteúdo de ambas as células podem ser alteradas. Pode usar as células de texto para juntar as suas observação ao texto existente. Incentivamos no entanto que experimente com o código oferecido com os nossos exemplos."
   ]
  },
  {
   "cell_type": "code",
   "execution_count": null,
   "metadata": {
    "collapsed": true
   },
   "outputs": [],
   "source": []
  },
  {
   "cell_type": "markdown",
   "metadata": {},
   "source": [
    "Neste caso a célula está vazia. Com isto quer dizer que não tem código ou programa para ser executado. Para executar uma célula basta que esta esteja selecionada e precionadas simultaniamente das teclas Shift+Return.\n",
    "\n",
    "A execução de uma célula no Jupyter invoca a execução do código pelo interpretador de Python. Para ver isso podemos começar por usar uma célula para fazer um pouco de aritmética."
   ]
  },
  {
   "cell_type": "code",
   "execution_count": 1,
   "metadata": {
    "collapsed": false
   },
   "outputs": [
    {
     "data": {
      "text/plain": [
       "5"
      ]
     },
     "execution_count": 1,
     "metadata": {},
     "output_type": "execute_result"
    }
   ],
   "source": [
    "2+3"
   ]
  },
  {
   "cell_type": "markdown",
   "metadata": {},
   "source": [
    "Resumino: o resultado de avaliar 2+3 é 5. Fantástico. Ou seja o código 2+3 é interpretado pelo interpretador de Python como sendo o valor numérico 6. \n",
    "\n",
    "As células são numeradas à medida que são executadas. Por **In[1]** o sistema identifica a primeira linha de código executado (O primeiro **in**put). Por **Out[1]** o sistema identifica o resultado ou interpretação (ou **out**put)  de interpretar o primeiro input.\n",
    "\n",
    "Aqui usamos, como exemplo, o símbolo clássico + para representar a operação de adição. Em Python usamos também - e / para representar a operação de subração e de divisão, respetivamente. Outras operações têm representações menos imediatas. Por exemplo usamos 2\\*3 para descrever $2\\times 3$ (o produto de 2 por 3) e 2\\*\\*3 para identificar $2^3$ (dois ao cubo). Neste caso todos os exemplos que são operadores (aritméticos) com dois argumentos numéricos. Em *2+3* o operador tem por argumento os números 2 e 3, neste sentido **+** é um operador binário, porque usa dois argumentos.\n",
    "\n",
    "Experimente alteras o operador usando para isso a sintaxe descrita na tabela que vem abaixo."
   ]
  },
  {
   "cell_type": "code",
   "execution_count": 2,
   "metadata": {
    "collapsed": false
   },
   "outputs": [
    {
     "data": {
      "text/plain": [
       "5"
      ]
     },
     "execution_count": 2,
     "metadata": {},
     "output_type": "execute_result"
    }
   ],
   "source": [
    "2+3"
   ]
  },
  {
   "cell_type": "markdown",
   "metadata": {},
   "source": [
    "Operador |  Operação | Exemplo | Valor ...\n",
    "---------|-----------|-------------|-----------\n",
    "**       | potência  | 2 ** 3      | 8\n",
    "%        | resto da divisão inteira | 22 % 8 |6\n",
    "//       | quociente da divisão inteira | 22 // 8 | 2\n",
    "/       | divisão |  22 / 8 | 2.75\n",
    "*  | multiplicação |  3 * 5 |15\n",
    "-  | subtração |  5 - 2 | 3\n",
    "+  | adição  | 2 + 2 | 4\n",
    "\n",
    "A ordem das operações, também designada de precedência dos operadores aritméticos, usado pelo interpretador de Python é similar ao que é usada na aritmética. Quando escritos em sequência, os operadores \\*\\* (potência) é avaliado primeiro; os operadores  \\*, /, //, e % são avaliados a seguir, da esquerda para a direita; por último é avaliado + e - (também da esquerda para a direita). Naturalmente que podemos usar parênteses para super-impor a ordem de avaliação que desejar.\n",
    "\n",
    "Pelo descrito, a interpretação de 2+2\\*11//+1 é *5*:"
   ]
  },
  {
   "cell_type": "code",
   "execution_count": 3,
   "metadata": {
    "collapsed": false
   },
   "outputs": [
    {
     "data": {
      "text/plain": [
       "5"
      ]
     },
     "execution_count": 3,
     "metadata": {},
     "output_type": "execute_result"
    }
   ],
   "source": [
    "2+2*11//8+1"
   ]
  },
  {
   "cell_type": "markdown",
   "metadata": {},
   "source": [
    "Que tem a mesma interpretação que (2+((2\\*11)//8))+1, primeiro calculamos 2\\*11, depois 22//8, de seguida fazemos 2+2, por fim 2+1."
   ]
  },
  {
   "cell_type": "code",
   "execution_count": 4,
   "metadata": {
    "collapsed": false
   },
   "outputs": [
    {
     "data": {
      "text/plain": [
       "5"
      ]
     },
     "execution_count": 4,
     "metadata": {},
     "output_type": "execute_result"
    }
   ],
   "source": [
    "(2+((2*11)//8))+1"
   ]
  },
  {
   "cell_type": "markdown",
   "metadata": {},
   "source": [
    "A interpretação dum pedaço de código, pelo interpretador, é um processo complexo, que requer duas fases. Numa primeira fase o sistema verifica a sintaxe da expressão. Validando se a sequência de símbolos que constituem as linhas de código, fazem sentido. Na segunda fase, o sistema avalia o código. Genericamente a avaliação dum pedaço de código, leva a uma alteração do estado da memória do computador. Podendo resultar na produção de um resultado, como nos exemplos anteriores. \n",
    "\n",
    "Por exemplo, na célula abaixo, temos uma sequência de símbolos que descrevem uma expressão aritmética, que é sintaticamente correta:"
   ]
  },
  {
   "cell_type": "code",
   "execution_count": 5,
   "metadata": {
    "collapsed": false
   },
   "outputs": [
    {
     "data": {
      "text/plain": [
       "16.0"
      ]
     },
     "execution_count": 5,
     "metadata": {},
     "output_type": "execute_result"
    }
   ],
   "source": [
    "(5 - 1) * ((7 + 1) / (3 - 1))"
   ]
  },
  {
   "cell_type": "markdown",
   "metadata": {},
   "source": [
    "Na tentativa de avaliar uma expressão, como a anterior, o Python, guiado pela ordem de precedência imposta pelos operadores ou pela parentização, avalia progressivamente sub-fórmulas até obter um valor único.\n",
    "\n",
    "<img src=\"000056.png\" width = 200/>\n",
    "\n",
    "As regras usadas para formar expressões que podem ser avaliadas ( ou que o interpretador de Python perceba) descrevem a gramática desta linguagem de programação. Neste livro não vamos fazem uma descrição detalhada da gramática da linguagem de programação, no entanto vamos apresentar alguns fragmentos da linguagem. O último Capítulo do livro é dedicado a uma descrição formal do que se entende por gramática de uma linguagem.\n",
    "\n",
    "Sempre que pedimos ao Python para executar uma instrução desconhecida, ou cuja descrição é incorreta não respeitando a gramática da linguagem Python, é emitida uma mensagem identificando um erro de sintaxe. Levando isto que o código não seja avaliado pelo sistema."
   ]
  },
  {
   "cell_type": "code",
   "execution_count": 6,
   "metadata": {
    "collapsed": false
   },
   "outputs": [
    {
     "ename": "SyntaxError",
     "evalue": "invalid syntax (<ipython-input-6-bc8c986ea5b3>, line 1)",
     "output_type": "error",
     "traceback": [
      "\u001b[0;36m  File \u001b[0;32m\"<ipython-input-6-bc8c986ea5b3>\"\u001b[0;36m, line \u001b[0;32m1\u001b[0m\n\u001b[0;31m    5+\u001b[0m\n\u001b[0m      ^\u001b[0m\n\u001b[0;31mSyntaxError\u001b[0m\u001b[0;31m:\u001b[0m invalid syntax\n"
     ]
    }
   ],
   "source": [
    "5+"
   ]
  },
  {
   "cell_type": "code",
   "execution_count": 7,
   "metadata": {
    "collapsed": false
   },
   "outputs": [
    {
     "ename": "SyntaxError",
     "evalue": "invalid syntax (<ipython-input-7-46dd2e1d2da1>, line 1)",
     "output_type": "error",
     "traceback": [
      "\u001b[0;36m  File \u001b[0;32m\"<ipython-input-7-46dd2e1d2da1>\"\u001b[0;36m, line \u001b[0;32m1\u001b[0m\n\u001b[0;31m    42 + 5 + * 2\u001b[0m\n\u001b[0m             ^\u001b[0m\n\u001b[0;31mSyntaxError\u001b[0m\u001b[0;31m:\u001b[0m invalid syntax\n"
     ]
    }
   ],
   "source": [
    "42 + 5 + * 2"
   ]
  },
  {
   "cell_type": "markdown",
   "metadata": {},
   "source": [
    "Acima são apresentados dois exemplos de expressões que, com os nossos conhecimentos de aritmética, não sabemos avaliar. De forma idêntica não respeitam as regras da linguagem de programação. O Interpretador gera nestes casos um erro. Este tipo de erro é usualmente designados de **erros de sintaxe**, alertando que o código não pode ser executada."
   ]
  },
  {
   "cell_type": "markdown",
   "metadata": {},
   "source": [
    "Os arguementos dos operadores e o resultado  de avaliar as fórmulas anteriores são valores numéricos. Estes valore são codificados por cadeias de dígitos, que o sistema (e nós)  interpretamos como números. Estas cadeias são em Python designadas de **constantes literais**."
   ]
  },
  {
   "cell_type": "markdown",
   "metadata": {},
   "source": [
    "##### Constantes Literais\n",
    "\n",
    "Como exemplos de constantes literais usados acima temos *2* e *3*. Mas poderíamos ter usado *32*. O mundo não vive apenas de números, temos necessidade de palavras para descrever as coisas. Qualquer cadeia de símbolos como *'Isto é fantástico!'*, que corresponde a uma sequência de palavras em Português, é considerado também pelo interpretador como uma constante literal. Estas cadeias de símbolos em programação são genericamente designadas de **strings**, entendidas como sequência de caracteres.\n",
    "\n",
    "Outros exemplos de constantes literais são *1.23* ou *9.25e-3*. Por exemplos de strings temos *'Isto é uma string'* ou *\"É uma string!\"*. Estas identidades dizem-se constantes porque o seu significado não varia com o contexto da interpretação do código. São constantes literais porque devem ser interpretadas à letra (literalmente) pelo ser humano. \n",
    "\n",
    "Genericamente as constantes literais são classificadas em duas categorias, ou representam **números**, ou são **strings**.\n"
   ]
  },
  {
   "cell_type": "markdown",
   "metadata": {},
   "source": [
    "##### Números\n",
    "\n",
    "Os números em Python podem ser de três tipos: *inteiros*, *ponto flutuante* e *complexos*:\n",
    "\n",
    "1. *2* é um exemplo de inteiro, os inteiros são elementos do conjunto dos números inteiros. Existem no entanto limitações à magnitude dos inteiros que se podem usar. \n",
    "\n",
    "1. *3.23* e *52.3E-4* são exemplos de números décimais ou no sistema de virgula flutuante (ou floats, para abreviar). No segundo caso o símbolo **E** indica uma potência de *10*. Neste caso, *52.3E-4* representa o número *52.3*$\\times$ *10*$^{-4}$. Para facilitar neste livro este tipo de números será designado de décimal ou float.\n",
    "\n",
    "1. (*-5+4j*) e (*2.3 - 4.6j*) são exemplos de números complexos, que em Matemática é usual representar por *-5+4i* e *2.3 - 4.6i*.\n",
    "\n",
    "Aqui não vamos usar números complexos. Recorremos aos números décimais esporadicamente, fundamentalmente em exemplos de aplicação de algumas funções das bibliotecas *standard* do Python. Apesar de serem elementos fundamental nas áreas da Matemática Aplicada, aqui centramos os exemplos de programação a estructuras criadas com base em números inteiros e strings. Estas estruturas, são mais adiante designadas de **Estruturas de Dados**."
   ]
  },
  {
   "cell_type": "markdown",
   "metadata": {},
   "source": [
    "##### Strings\n",
    "\n",
    "[caracteres]\n",
    "\n",
    "[caracteres Unicode]\n",
    "\n",
    "Uma string é então uma constante literária definida por uma sequência de símbolos. As stings são usualmente usadas para representar frase que podem suportar símbolos usando o padrão Unicode (como os que são usados na língua Chinesa ou Japonesa). \n",
    "\n",
    "Dada a importância deste tipo de entidade, em Python, as strings podem ser definidas de diferentes maneiras. Todos eles seguem uma estrutura comum: Uma string é uma sequência de símbolos onde a sequência inicial de símbolo identifica o início da string e a sequência final o seu fim. A sequência de símbolo que limita a string pode ser formado por uma única aspa, aspas duplas, ou aspas triplas. "
   ]
  },
  {
   "cell_type": "markdown",
   "metadata": {},
   "source": [
    "##### Aspas Unitárias\n",
    "Uma strings pode ser definida por uma sequência de caracteres delimitada por aspas unitárias (ou apóstrofes) tais como: "
   ]
  },
  {
   "cell_type": "code",
   "execution_count": 1,
   "metadata": {
    "collapsed": false
   },
   "outputs": [
    {
     "data": {
      "text/plain": [
       "'O estudo da lógica remonta à civilização helénica'"
      ]
     },
     "execution_count": 1,
     "metadata": {},
     "output_type": "execute_result"
    }
   ],
   "source": [
    "'O estudo da lógica remonta à civilização helénica'"
   ]
  },
  {
   "cell_type": "markdown",
   "metadata": {},
   "source": [
    "Este é o processo mais comum para as representar. As outras formas de descrever tentam apenas facilitar o trabalho dum programados."
   ]
  },
  {
   "cell_type": "markdown",
   "metadata": {},
   "source": [
    "##### Aspas Duplas\n",
    "Assim as strings podem também ser definidas usando aspas duplas por exemplo:"
   ]
  },
  {
   "cell_type": "code",
   "execution_count": 2,
   "metadata": {
    "collapsed": false
   },
   "outputs": [
    {
     "data": {
      "text/plain": [
       "'A arte da argumentação levou à morte de Sócrates.'"
      ]
     },
     "execution_count": 2,
     "metadata": {},
     "output_type": "execute_result"
    }
   ],
   "source": [
    "\"A arte da argumentação levou à morte de Sócrates.\""
   ]
  },
  {
   "cell_type": "markdown",
   "metadata": {},
   "source": [
    "Note que aqui no resultado da interpretação o símbolo \" foi transformado numa aspa simples '."
   ]
  },
  {
   "cell_type": "markdown",
   "metadata": {},
   "source": [
    "##### Aspas Triplas\n",
    "Outra forma a definir strings que ocupam várias linhas é usar aspas triplas (\"\"\" ou '''). Um exemplo:"
   ]
  },
  {
   "cell_type": "code",
   "execution_count": 9,
   "metadata": {
    "collapsed": false
   },
   "outputs": [
    {
     "data": {
      "text/plain": [
       "'A palavra \"trivial\" tem uma etimologia interessante.\\nÉ a conjugação de \"tri\" (significando \\'3\\') e \"via\" (significando caminho).\\nOriginalmente refere-se ao \"trivium\", as três áreas fundamentais do\\n\\'curriculae\\': gramática, retórica e lógica.\\nAssuntos que se tem de dominar para aceder ao \"quadrivium\", que\\nconsiste na aritmética, geometria, música e astronomia.'"
      ]
     },
     "execution_count": 9,
     "metadata": {},
     "output_type": "execute_result"
    }
   ],
   "source": [
    " '''A palavra \"trivial\" tem uma etimologia interessante.\n",
    " É a conjugação de \"tri\" (significando '3') e \"via\" (significando caminho).\n",
    " Originalmente refere-se ao \"trivium\", as três áreas fundamentais do\n",
    " 'curriculae': gramática, retórica e lógica.\n",
    " Assuntos que se tem de dominar para aceder ao \"quadrivium\", que\n",
    " consiste na aritmética, geometria, música e astronomia.'''"
   ]
  },
  {
   "cell_type": "markdown",
   "metadata": {},
   "source": [
    "Note que, ao contrário dos anteriores, este exemplo estende-se por diferentes linhas na célula de execução. No entanto agora o resultado da interpretação a string vem alterada. As aspas e a mudança de linha vêm agora codificados por **\\'** e **\\n**. Podemos entender estas sequências como representações internas de elementos do texto original. São conhecidas por *sequências de escape*. A sequência **\\n** codifica a mudança de linha. Como o Python representa strings usando as aspas símples, as aspas que aparecem dentro da string são substituídas por **\\'**.\n",
    "\n",
    "Note que, as aspas simples ou duplas não permitem que a mudança de linha seja reconhecida, por exemplo:"
   ]
  },
  {
   "cell_type": "code",
   "execution_count": 4,
   "metadata": {
    "collapsed": false
   },
   "outputs": [
    {
     "ename": "SyntaxError",
     "evalue": "EOL while scanning string literal (<ipython-input-4-b16624068c7c>, line 1)",
     "output_type": "error",
     "traceback": [
      "\u001b[0;36m  File \u001b[0;32m\"<ipython-input-4-b16624068c7c>\"\u001b[0;36m, line \u001b[0;32m1\u001b[0m\n\u001b[0;31m    'Isto\u001b[0m\n\u001b[0m          ^\u001b[0m\n\u001b[0;31mSyntaxError\u001b[0m\u001b[0;31m:\u001b[0m EOL while scanning string literal\n"
     ]
    }
   ],
   "source": [
    "'Isto \n",
    "está\n",
    "mal...'"
   ]
  },
  {
   "cell_type": "markdown",
   "metadata": {},
   "source": [
    "Neste caso o Python tenta encontrar o símbolo de fim de string. Como não o encontra na linha onde a string começou a ser definida, é gera do um erro de sintaxe.\n",
    "\n",
    "Para recuperar o significado original duma string onde aparecem sequências de escape, temos de introduzir o comando *print*. \n",
    "\n",
    "O comando *print* pode ser entendido como uma função que imprime uma representação legível para o humano, do seu argumento ou argumentos."
   ]
  },
  {
   "cell_type": "code",
   "execution_count": 8,
   "metadata": {
    "collapsed": false
   },
   "outputs": [
    {
     "name": "stdout",
     "output_type": "stream",
     "text": [
      "A palavra \"trivial\" tem uma etimologia interessante. \n",
      "É a conjugação de \"tri\" (significando '3') e \"via\" (significando caminho).\n",
      "Originalmente refere-se ao \"trivium\", as três áreas fundamentais do\n",
      "'curriculae': gramática, retórica e lógica.\n",
      "Assuntos que se tem de dominar para aceder ao \"quadrivium\", que\n",
      "consiste na aritmética, geometria, música e astronomia.\n",
      "\n"
     ]
    }
   ],
   "source": [
    "print('A palavra \"trivial\" tem uma etimologia interessante. \\nÉ a conjugação de \"tri\" (significando \\'3\\') e \"via\" (significando caminho).\\nOriginalmente refere-se ao \"trivium\", as três áreas fundamentais do\\n\\'curriculae\\': gramática, retórica e lógica.\\nAssuntos que se tem de dominar para aceder ao \"quadrivium\", que\\nconsiste na aritmética, geometria, música e astronomia.\\n')"
   ]
  },
  {
   "cell_type": "markdown",
   "metadata": {},
   "source": [
    "Note que agora, as sequência de escape são representados pelo seu significado. Neste contexto, o texto devolvido não é identificado pelo Jupyter como o resultado da interpretação do código. O texto é agora o resultado de executar o comando *print*.\n",
    "\n",
    "Assim podemos produzir o significado original:"
   ]
  },
  {
   "cell_type": "code",
   "execution_count": 10,
   "metadata": {
    "collapsed": false
   },
   "outputs": [
    {
     "name": "stdout",
     "output_type": "stream",
     "text": [
      "A palavra \"trivial\" tem uma etimologia interessante.\n",
      " É a conjugação de \"tri\" (significando '3') e \"via\" (significando caminho).\n",
      " Originalmente refere-se ao \"trivium\", as três áreas fundamentais do\n",
      " 'curriculae': gramática, retórica e lógica.\n",
      " Assuntos que se tem de dominar para aceder ao \"quadrivium\", que\n",
      " consiste na aritmética, geometria, música e astronomia.\n"
     ]
    }
   ],
   "source": [
    "print( '''A palavra \"trivial\" tem uma etimologia interessante.\n",
    " É a conjugação de \"tri\" (significando '3') e \"via\" (significando caminho).\n",
    " Originalmente refere-se ao \"trivium\", as três áreas fundamentais do\n",
    " 'curriculae': gramática, retórica e lógica.\n",
    " Assuntos que se tem de dominar para aceder ao \"quadrivium\", que\n",
    " consiste na aritmética, geometria, música e astronomia.''')"
   ]
  },
  {
   "cell_type": "markdown",
   "metadata": {},
   "source": [
    "O *print* é uma função bastante versátil. Sem fugir do pretendido experimente com os exemplos abaixo."
   ]
  },
  {
   "cell_type": "code",
   "execution_count": 11,
   "metadata": {
    "collapsed": false
   },
   "outputs": [
    {
     "name": "stdout",
     "output_type": "stream",
     "text": [
      "5\n"
     ]
    }
   ],
   "source": [
    "print(2+3)"
   ]
  },
  {
   "cell_type": "code",
   "execution_count": 12,
   "metadata": {
    "collapsed": false
   },
   "outputs": [
    {
     "name": "stdout",
     "output_type": "stream",
     "text": [
      "A String está partida !\n"
     ]
    }
   ],
   "source": [
    "print('A','String','está','partida','!')"
   ]
  },
  {
   "cell_type": "code",
   "execution_count": 14,
   "metadata": {
    "collapsed": false,
    "scrolled": true
   },
   "outputs": [
    {
     "name": "stdout",
     "output_type": "stream",
     "text": [
      "2+3 = 5\n"
     ]
    }
   ],
   "source": [
    "print('2+3 =',2+3)"
   ]
  },
  {
   "cell_type": "markdown",
   "metadata": {},
   "source": [
    "Em cada um dos exemplos, quando a célula é executada, é apresentado uma representação das avaliações dos argumentos da função *print*. Que, como vimos, pode diferir da representação feita pelo interpretador."
   ]
  },
  {
   "cell_type": "markdown",
   "metadata": {},
   "source": [
    "##### Sequências de Escape\n",
    "\n",
    "Existem várias sequências de escape, para além das duas que apresentámos anteriormente. \n",
    "Recordando: Para definir uma string que contenha um apóstrofe ('), podemos fazer: "
   ]
  },
  {
   "cell_type": "code",
   "execution_count": 15,
   "metadata": {
    "collapsed": false
   },
   "outputs": [
    {
     "name": "stdout",
     "output_type": "stream",
     "text": [
      "Why was logic considered to be fundamental to one's education?\n"
     ]
    }
   ],
   "source": [
    "print('Why was logic considered to be fundamental to one\\'s education?')"
   ]
  },
  {
   "cell_type": "markdown",
   "metadata": {},
   "source": [
    "Só assim o apóstrofe interna não entra em conflito com os delimitadores. Caso contrário temos:"
   ]
  },
  {
   "cell_type": "code",
   "execution_count": 16,
   "metadata": {
    "collapsed": false
   },
   "outputs": [
    {
     "ename": "SyntaxError",
     "evalue": "invalid syntax (<ipython-input-16-5fa16817f248>, line 1)",
     "output_type": "error",
     "traceback": [
      "\u001b[0;36m  File \u001b[0;32m\"<ipython-input-16-5fa16817f248>\"\u001b[0;36m, line \u001b[0;32m1\u001b[0m\n\u001b[0;31m    print('Why was logic considered to be fundamental to one's education?')\u001b[0m\n\u001b[0m                                                             ^\u001b[0m\n\u001b[0;31mSyntaxError\u001b[0m\u001b[0;31m:\u001b[0m invalid syntax\n"
     ]
    }
   ],
   "source": [
    "print('Why was logic considered to be fundamental to one's education?')"
   ]
  },
  {
   "cell_type": "markdown",
   "metadata": {},
   "source": [
    "Caso se escolha outro delimitador de string este problema pode ser ultrapassado."
   ]
  },
  {
   "cell_type": "code",
   "execution_count": 17,
   "metadata": {
    "collapsed": false
   },
   "outputs": [
    {
     "name": "stdout",
     "output_type": "stream",
     "text": [
      "Why was logic considered to be fundamental to one's education?\n"
     ]
    }
   ],
   "source": [
    "print(\"Why was logic considered to be fundamental to one's education?\")"
   ]
  },
  {
   "cell_type": "markdown",
   "metadata": {},
   "source": [
    "Mas para este delimitador, é agora usada uma sequência de escape para inserir aspas duplas no meio da *string*. A própria barra invertida só pode ser inserida na *string* pela sequência de escape $\\setminus\\setminus$, pois caso contrário é assumida como inicio de uma sequência de escape."
   ]
  },
  {
   "cell_type": "code",
   "execution_count": 18,
   "metadata": {
    "collapsed": false
   },
   "outputs": [
    {
     "name": "stdout",
     "output_type": "stream",
     "text": [
      "--\"\\\"...\n"
     ]
    }
   ],
   "source": [
    "print(\"--\\\"\\\\\\\"...\")"
   ]
  },
  {
   "cell_type": "code",
   "execution_count": 20,
   "metadata": {
    "collapsed": false
   },
   "outputs": [
    {
     "name": "stdout",
     "output_type": "stream",
     "text": [
      "A lógica centra-se na razão e na noção de verdade.\n",
      "A retórica fundamenta-se em ideias feitas e populistas.\n"
     ]
    }
   ],
   "source": [
    "print('A lógica centra-se na razão e na noção de verdade.\\nA retórica fundamenta-se em ideias feitas e populistas.')"
   ]
  },
  {
   "cell_type": "markdown",
   "metadata": {},
   "source": [
    "Existem outras sequências de escape, apresenta-se aqui apenas as mais usadas. Para um descrição sistemática use a documentação do interpretador, em https://www.python.org/.\n",
    "\n",
    "Num editor, durante a programação, é frequente ter a necessidade de continuar uma string na linha imediatamente abaixo. Para isso é usada uma única barra invertida no fim da linha. Por exemplo para escrever *Looking Glass* de Lewis Carroll, com um único *print*, podemos fazer:"
   ]
  },
  {
   "cell_type": "code",
   "execution_count": 21,
   "metadata": {
    "collapsed": false
   },
   "outputs": [
    {
     "name": "stdout",
     "output_type": "stream",
     "text": [
      "\"Reciprocamente\", continuou Tweedledee, \"Se é assim, ele pode ser, \n",
      " e se não é, será; mas como não é não se preocupa. Isto é lógica.\" \n"
     ]
    }
   ],
   "source": [
    "print(\"\\\"Reciprocamente\\\", continuou Tweedledee, \\\n",
    "\\\"Se é assim, ele pode ser, \\n \\\n",
    "e se não é, será; mas como não é não se preocupa. \\\n",
    "Isto é lógica.\\\" \")"
   ]
  },
  {
   "cell_type": "markdown",
   "metadata": {},
   "source": [
    "Se por algum motivo tem necessidade que as sequências de escape, na definição da string, não sejam reescrtitas pelo comando *print* deve usar como prefixo um r ou um R. Por exemplo, na string anterior:"
   ]
  },
  {
   "cell_type": "code",
   "execution_count": 22,
   "metadata": {
    "collapsed": false
   },
   "outputs": [
    {
     "name": "stdout",
     "output_type": "stream",
     "text": [
      "\\\"Reciprocamente\\\", continuou Tweedledee, \\\"Se é assim, ele pode ser, \\n e se não é, será; mas como não é não se preocupa. Isto é lógica.\\\" \n"
     ]
    }
   ],
   "source": [
    "print(r\"\\\"Reciprocamente\\\", continuou Tweedledee, \\\n",
    "\\\"Se é assim, ele pode ser, \\n \\\n",
    "e se não é, será; mas como não é não se preocupa. \\\n",
    "Isto é lógica.\\\" \")"
   ]
  },
  {
   "cell_type": "markdown",
   "metadata": {},
   "source": [
    "Já apresentamos operadores que podem ser usados para operar valores numéricos. Existem também operadores que podemos usar nas strings.\n",
    "\n",
    "#### Concatenação de Literais do Tipo String\n",
    "\n",
    "Quando numa linha de código duas strings são postas lado a lado, o interpretador faz a sua concatenação, ou seja, cria uma nova string que é formada juntando sucessivamente as várias strings. Por exemplo:"
   ]
  },
  {
   "cell_type": "code",
   "execution_count": 24,
   "metadata": {
    "collapsed": false
   },
   "outputs": [
    {
     "name": "stdout",
     "output_type": "stream",
     "text": [
      "Originalmente a lógica lidava com linguagem natural\n"
     ]
    }
   ],
   "source": [
    "print('Originalmente' ' a lógica lidava' ' com linguagem natural')"
   ]
  },
  {
   "cell_type": "markdown",
   "metadata": {},
   "source": [
    "No entanto esta prática pode-se revelar bastante confusa. De forma mais descritiva pode-se recorrer ao operador +:"
   ]
  },
  {
   "cell_type": "code",
   "execution_count": 25,
   "metadata": {
    "collapsed": false
   },
   "outputs": [
    {
     "name": "stdout",
     "output_type": "stream",
     "text": [
      "Seria útil demonstrar a correcção dum argumento.\n"
     ]
    }
   ],
   "source": [
    "print('Seria útil'+' demonstrar a correcção'+' dum argumento.')"
   ]
  },
  {
   "cell_type": "markdown",
   "metadata": {},
   "source": [
    "Uma forma prática para repetir uma sequência de caracteres é usar o operador **\\***. Apesar de neste contexto o operador continuar a ser binário, o primeiro argumento tem de ser um inteiro e o segundo uma string. Por exemplo para repetir 50 vezes o padrão definido pela string '---...--- ' fazemos:"
   ]
  },
  {
   "cell_type": "code",
   "execution_count": 26,
   "metadata": {
    "collapsed": false
   },
   "outputs": [
    {
     "name": "stdout",
     "output_type": "stream",
     "text": [
      "---...--- ---...--- ---...--- ---...--- ---...--- ---...--- ---...--- ---...--- ---...--- ---...--- ---...--- ---...--- ---...--- ---...--- ---...--- ---...--- ---...--- ---...--- ---...--- ---...--- ---...--- ---...--- ---...--- ---...--- ---...--- ---...--- ---...--- ---...--- ---...--- ---...--- ---...--- ---...--- ---...--- ---...--- ---...--- ---...--- ---...--- ---...--- ---...--- ---...--- ---...--- ---...--- ---...--- ---...--- ---...--- ---...--- ---...--- ---...--- ---...--- ---...--- \n"
     ]
    }
   ],
   "source": [
    "print(50*'---...--- ')"
   ]
  },
  {
   "cell_type": "markdown",
   "metadata": {},
   "source": [
    "### Variáveis\n",
    "\n",
    "Como um mundo de constantes não evolui vamos aqui introduzir a noção de variável. Em si a noção não vai variar muito do que está habituado na Matemática (as variáveis duma equação). Em programação uma variável só pode ser usada tiver associado um valor."
   ]
  },
  {
   "cell_type": "code",
   "execution_count": 28,
   "metadata": {
    "collapsed": false
   },
   "outputs": [
    {
     "name": "stdout",
     "output_type": "stream",
     "text": [
      "5\n"
     ]
    }
   ],
   "source": [
    "x=2\n",
    "y=3\n",
    "print(x+y)"
   ]
  },
  {
   "cell_type": "markdown",
   "metadata": {},
   "source": [
    "Aqui podemos entender o anterior programa, como tendo três linhas de código. Na primeira linha definimos *x* como sendo *2*. Na segunda linha definimos *y* como sendo *3*. Na terceira linha imprimimos o valor da interpretação de *x+y*.\n",
    "\n",
    "Na maioria das linguagens de programação a descrição acima é suficiente para se entender as linhas de código. No entanto em Python devíamos dizer que com *x=2* queremos que *x* referência a constante literal *2*. Neste sentido *x+y* opera as constantes referenciadas por *x* e *y*. O operador *=* é designado de operador de atribuição. Devemos no entanto notar que, *=* em programação, não têm exatamente o mesmo sentido que está habituado em Matemática. Em matemática *=* significa igualdade ou seja é uma relação binária. É isto que lhe permite dizer que *2=1* é falso. Contudo quando escreve *x=2*, numa equação quer dizer que, assumindo a relação verdadeira, então o valor da variável *x* é igual a *2*. O que se aproxima do significado de uma atribuição numa linguagem de programação.\n",
    "\n",
    "Executando a próxima célula:"
   ]
  },
  {
   "cell_type": "code",
   "execution_count": 30,
   "metadata": {
    "collapsed": false
   },
   "outputs": [
    {
     "ename": "NameError",
     "evalue": "name 'z' is not defined",
     "output_type": "error",
     "traceback": [
      "\u001b[0;31m---------------------------------------------------------------------------\u001b[0m",
      "\u001b[0;31mNameError\u001b[0m                                 Traceback (most recent call last)",
      "\u001b[0;32m<ipython-input-30-b912837e1c67>\u001b[0m in \u001b[0;36m<module>\u001b[0;34m()\u001b[0m\n\u001b[0;32m----> 1\u001b[0;31m \u001b[0mx\u001b[0m\u001b[0;34m+\u001b[0m\u001b[0mz\u001b[0m\u001b[0;34m\u001b[0m\u001b[0m\n\u001b[0m",
      "\u001b[0;31mNameError\u001b[0m: name 'z' is not defined"
     ]
    }
   ],
   "source": [
    "x+z"
   ]
  },
  {
   "cell_type": "markdown",
   "metadata": {},
   "source": [
    "Como indicado na mensagem de erro, não pode avaliar a expressão porque *z* não está definido. O interpretador reconhece *x*, porque foi definido na célula anterior, mas *z* é a primeira vez que é usado.\n",
    "\n",
    "**Muito Importante**: Sempre que define uma variável esta fica disponível na execução de qualquer célula que definir posteriormente."
   ]
  },
  {
   "cell_type": "code",
   "execution_count": 31,
   "metadata": {
    "collapsed": false
   },
   "outputs": [
    {
     "data": {
      "text/plain": [
       "4"
      ]
     },
     "execution_count": 31,
     "metadata": {},
     "output_type": "execute_result"
    }
   ],
   "source": [
    "x+2"
   ]
  },
  {
   "cell_type": "code",
   "execution_count": 32,
   "metadata": {
    "collapsed": false
   },
   "outputs": [
    {
     "data": {
      "text/plain": [
       "6"
      ]
     },
     "execution_count": 32,
     "metadata": {},
     "output_type": "execute_result"
    }
   ],
   "source": [
    "3+y"
   ]
  },
  {
   "cell_type": "markdown",
   "metadata": {},
   "source": [
    "As variáveis podem assim ser usadas para referenciar qualquer constante literal. Facilitando o seu tratamento e manipulação.  \n",
    "\n",
    "De forma genérica, aqui, uma  variável pode ser entendida como uma referência a uma parte da memória do computador onde está armazenada informação. Diferindo das constantes literais, uma vez que o seu significado pode variar no decurso da execução dum programa."
   ]
  },
  {
   "cell_type": "code",
   "execution_count": 33,
   "metadata": {
    "collapsed": false
   },
   "outputs": [
    {
     "name": "stdout",
     "output_type": "stream",
     "text": [
      "103\n"
     ]
    }
   ],
   "source": [
    "x=100\n",
    "print(x+y)"
   ]
  },
  {
   "cell_type": "markdown",
   "metadata": {},
   "source": [
    "A partir de agora *x* passa a referenciar a constante literal *100*, deixando de referenciar *2*."
   ]
  },
  {
   "cell_type": "code",
   "execution_count": 34,
   "metadata": {
    "collapsed": false
   },
   "outputs": [
    {
     "name": "stdout",
     "output_type": "stream",
     "text": [
      "Seria útil demonstrar a correcção dum argumento.\n"
     ]
    }
   ],
   "source": [
    "H1 = 'Seria útil '\n",
    "H2 = 'demonstrar a correcção '\n",
    "H3 = 'dum argumento.'\n",
    "print(H1+H2+H3)"
   ]
  },
  {
   "cell_type": "markdown",
   "metadata": {},
   "source": [
    "No exemplo H1, H2 e H3 são usadas para identificar três strings, cuja concatenação é imprimida na *shell* través do comando *print*.\n",
    "\n",
    "Em Python as coisas que estão armazenadas em memória e se podem referenciar por variáveis são designados de **objectos**. Assim, os números e as strings objetos. Os números são objetos numéricos e podem ser de três tipos *inteiros*, *floats* ou *complexos*. A strings são então objetos de tipo *string*.\n",
    "\n",
    "\n",
    "O nome dado a uma variáveis é conhecido como **identificador**, uma vez que é o que permite identificar um objecto em memória. \n",
    "\n",
    "Em toda a cadeia de carateres pode ser usada como identificador. Existem regras  para a sua formação. São elas:\n",
    "\n",
    "1. O primeiro carater do identificador tem de ser uma letra do alfabeto (maiúsculo ASCII ou minúsculo ASCII) ou um *'\\_'*.\n",
    "2.  O resto do nome do identificador pode consistir de letras (maiúsculo ASCII ou minúsculo ASCII), *'\\_'* ou dígitos (0-9).\n",
    "3. Nas letras usadas na construção dum identificador, uma maiúscula é diferente duma minúscula. Por exemplo, *myname* e *myName* são identificadores diferentes. Para significar isto é usual escrever que os  identificadores são \\textit{case-sensitive}.\n",
    "\n",
    "Exemplos de identificadores válidos são *i*, *\\_\\_my\\_name*, *name\\_23* e *a1b2\\_c3*.  Exemplos de identificadores inválidos são *2things* e *my-name*, porque o primeiro caracter do identificador não pode ser um digito e *-* é um carater que não é permitido ocorer no identificador."
   ]
  },
  {
   "cell_type": "code",
   "execution_count": 1,
   "metadata": {
    "collapsed": false
   },
   "outputs": [
    {
     "ename": "NameError",
     "evalue": "name 'my' is not defined",
     "output_type": "error",
     "traceback": [
      "\u001b[0;31m---------------------------------------------------------------------------\u001b[0m",
      "\u001b[0;31mNameError\u001b[0m                                 Traceback (most recent call last)",
      "\u001b[0;32m<ipython-input-1-d3552f9031b3>\u001b[0m in \u001b[0;36m<module>\u001b[0;34m()\u001b[0m\n\u001b[0;32m----> 1\u001b[0;31m \u001b[0mmy\u001b[0m\u001b[0;34m-\u001b[0m\u001b[0mname\u001b[0m\u001b[0;34m\u001b[0m\u001b[0m\n\u001b[0m",
      "\u001b[0;31mNameError\u001b[0m: name 'my' is not defined"
     ]
    }
   ],
   "source": [
    "my-name"
   ]
  },
  {
   "cell_type": "markdown",
   "metadata": {},
   "source": [
    "O código da célula acima é entendida pelo interpretador como a subtração dos objetos referenciados por *my* e *name*. Como *my* não está definido é transmitida a mensagem de erro."
   ]
  },
  {
   "cell_type": "markdown",
   "metadata": {},
   "source": [
    "Aqui vai o nosso maior programa:"
   ]
  },
  {
   "cell_type": "code",
   "execution_count": 35,
   "metadata": {
    "collapsed": false
   },
   "outputs": [
    {
     "name": "stdout",
     "output_type": "stream",
     "text": [
      "5\n",
      "6\n",
      "Esta é uma string de múltiplas linhas.\n",
      "Esta é a segunda linha.\n"
     ]
    }
   ],
   "source": [
    "\n",
    "i = 5\n",
    "print(i) \n",
    "\n",
    "i = i + 1\n",
    "print(i)\n",
    "\n",
    "s = '''Esta é uma string de múltiplas linhas.\n",
    "Esta é a segunda linha.'''\n",
    "print(s)"
   ]
  },
  {
   "cell_type": "markdown",
   "metadata": {},
   "source": [
    "No programa começamos por usar o identificador *i* para referenciar a constante literal *5* através do *operador de atribuição* (=).  Em seguida, imprime-se o valor de *i* através do comando *print*.\n",
    "\n",
    "Na instrução seguinte somamos *1* ao valor referenciado por *i*. A partir deste momento *i* passa a referenciar o objeto *6*. Em seguida, imprime-se o valor de *i*, agora *6*.\n",
    "\n",
    "Como já se tinha feito na secção anterior, de forma análoga referencia-se um objeto *string*  pela variável *s*, que depois se imprime. \n",
    "\n",
    "Assim o resultado de executar a célula são a impressão de 4 linhas de texto pelos comandos *print*:\n",
    "\n",
    "`5\n",
    "6\n",
    "Esta é uma string de múltiplas linhas.\n",
    "Esta é a segunda linha.`\n"
   ]
  },
  {
   "cell_type": "markdown",
   "metadata": {},
   "source": [
    "#### Linhas Lógicas e Físicas\n",
    "\n",
    "As linhas físicas são aquelas que escrevemos num linha a quando  da definição código dum programa. Uma linha lógica é a que o interpretador de Python entende por uma única instrução. O Python implicitamente assume que cada linha física corresponde a uma linha lógica.\n",
    "\n",
    "Um exemplo de uma linha lógica é uma instrução como:"
   ]
  },
  {
   "cell_type": "code",
   "execution_count": 37,
   "metadata": {
    "collapsed": false
   },
   "outputs": [
    {
     "name": "stdout",
     "output_type": "stream",
     "text": [
      "Sócrates é mortal.\n"
     ]
    }
   ],
   "source": [
    "print('Sócrates é mortal.') "
   ]
  },
  {
   "cell_type": "markdown",
   "metadata": {},
   "source": [
    "Como está escrita numa única linha, é entendida como uma linha física.\n",
    "\n",
    "Implicitamente, Python incentiva o uso de uma única instrução por linha, com o propósito de tornar o código mais legível.\n",
    "\n",
    "Se pretende definir mais do que uma linha lógica numa única linha física, então deve separar as linhas lógicas através de um ponto-e-virgula (';') para indicar o fim de cada linha lógica ou instrução. Por exemplo, "
   ]
  },
  {
   "cell_type": "code",
   "execution_count": 39,
   "metadata": {
    "collapsed": false
   },
   "outputs": [
    {
     "name": "stdout",
     "output_type": "stream",
     "text": [
      "5\n"
     ]
    }
   ],
   "source": [
    "i = 5\n",
    "print(i)"
   ]
  },
  {
   "cell_type": "markdown",
   "metadata": {},
   "source": [
    "é o mesmo que "
   ]
  },
  {
   "cell_type": "code",
   "execution_count": 40,
   "metadata": {
    "collapsed": false
   },
   "outputs": [
    {
     "name": "stdout",
     "output_type": "stream",
     "text": [
      "5\n"
     ]
    }
   ],
   "source": [
    "i = 5; print(i)"
   ]
  },
  {
   "cell_type": "markdown",
   "metadata": {},
   "source": [
    "Voltando a um exemplo anterior:"
   ]
  },
  {
   "cell_type": "code",
   "execution_count": 41,
   "metadata": {
    "collapsed": false
   },
   "outputs": [
    {
     "name": "stdout",
     "output_type": "stream",
     "text": [
      "\"Reciprocamente\", continuou Tweedledee, \"Se é assim, ele pode ser, \n",
      " e se não é, será; mas como não é não se preocupa. Isto é lógica.\" \n"
     ]
    }
   ],
   "source": [
    "H=   \"\\\"Reciprocamente\\\", continuou Tweedledee, \\\n",
    "\\\"Se é assim, ele pode ser, \\n \\\n",
    "e se não é, será; mas como não é não se preocupa. \\\n",
    "Isto é lógica.\\\" \"\n",
    "print(H)"
   ]
  },
  {
   "cell_type": "markdown",
   "metadata": {},
   "source": [
    "O objeto string que passa a ser referenciado por *H* deve ser entendido como definido numa única linha lógica, apesar de ocupar diferentes linhas físicas.  \n",
    "\n",
    "Neste sentido usa-se ; (ponto-e-virgula) para separar linhas lógicas na mesma linha física, enquanto $\\setminus$ para separar uma linha lógica em diferentes linhas físicas."
   ]
  },
  {
   "cell_type": "markdown",
   "metadata": {},
   "source": [
    "### Indentação\n",
    "\n",
    "Os espaços em  branco no inicio duma instrução são muito importantes no Python. Na verdade, os espaços brancos no início de uma linha definem a estrutura do programa. Aqui, como é usual em qualquer processador de texto, estes espaços são designados de indentação. \n",
    "\n",
    "A indentação do código pode ser definido por espaços ou tabulações. Um grupo de linhas consecutivas com a mesma identação é designado por **bloco de código**. Os blocos de código são usados para indentificar um conjunto de instruções que devem ser executadas, sequencialmente mas em conjunto, condicionada a sua execução por uma condição ou num contexto comum. É óbvio que dito isto assim é muito abstrato. Vamos já a seguir concretizar isto através de blocos controlados por condições. Deixamos os blocos executados no mesmo contexto, para o próximo capítulo.  \n",
    "\n",
    "Note que, um indentação sem nexo leva a erros de sintaxe. Por exemplo:"
   ]
  },
  {
   "cell_type": "code",
   "execution_count": 2,
   "metadata": {
    "collapsed": false
   },
   "outputs": [
    {
     "ename": "IndentationError",
     "evalue": "unexpected indent (<ipython-input-2-eb76b7b61f72>, line 2)",
     "output_type": "error",
     "traceback": [
      "\u001b[0;36m  File \u001b[0;32m\"<ipython-input-2-eb76b7b61f72>\"\u001b[0;36m, line \u001b[0;32m2\u001b[0m\n\u001b[0;31m    print('São ', i)\u001b[0m\n\u001b[0m    ^\u001b[0m\n\u001b[0;31mIndentationError\u001b[0m\u001b[0;31m:\u001b[0m unexpected indent\n"
     ]
    }
   ],
   "source": [
    "i = 5\n",
    " print('São ', i)\n",
    "print('São,',i,' os macacos.')"
   ]
  },
  {
   "cell_type": "markdown",
   "metadata": {},
   "source": [
    "Note-se que, existe um espaço simples no início da segunda linha. O interpretador assume que todas as instruções na célula pertencem ao mesmo bloco. Logo o inicio de cada instrução deve estar a primeira coluna, que não é o caso.\n",
    "\n",
    "Quando e como fazer a indentação, depende da instrução anterior ao bloco. Neste sentido a indentação muitas vezes é automatizada pelo editor. No nosso caso é automatizada pelo Jupyther. O problema é sempre a remoção das indentações, voltar à indentação de blocos anteriores. Esta tem de ser feita pelo programador, sendo determinante para a estrutura, ou seja lógica, do programa."
   ]
  },
  {
   "cell_type": "markdown",
   "metadata": {},
   "source": [
    "### Operadores e Expressões\n",
    "\n",
    "\n",
    "Notemos então que a maioria das instruções (linhas lógicas) que escreve contêm expressões. Um exemplo simples de uma expressão é 2+3. Num expressão podemos  diferenciar entre operador e argumentos. Os operadores são funções que podem ser identificadas por símbolos, como +, ou palavras especiais. Em Python operadores mesmo estando pré-definidos, podem ser redefinidos pelo programador. Podendo ser sempre classificados segundo o número de argumentos. Dizem-se unários se têm apenas um argumento e binário caso a sua avaliação dependa de dois argumentos.\n",
    "\n",
    "No exemplo 2+3, temos + como único operador, sendo um operador binário tendo por argumentos as expressões 2 e 3, que são constantes literárias. Como já tínhamos notado a interpretação de + depende do tipo dos objetos que são usados como argumentos. Quando os argumentos são inteiros é usado o algoritmo da soma para somar os valores, devolvendo um inteiro. Como já tínhamos visto, quando os argumentos são duas strings é feita a sua concatenação, devolvendo uma string. Quando os argumentos são números mas pelo menos um deles é um float, é devolvido um float como soma dos dois números."
   ]
  },
  {
   "cell_type": "code",
   "execution_count": 3,
   "metadata": {
    "collapsed": false
   },
   "outputs": [
    {
     "data": {
      "text/plain": [
       "5.9"
      ]
     },
     "execution_count": 3,
     "metadata": {},
     "output_type": "execute_result"
    }
   ],
   "source": [
    "2.9+3"
   ]
  },
  {
   "cell_type": "markdown",
   "metadata": {},
   "source": [
    "Na tabela abaixo temos os operadores binários usado nestes Notebooks."
   ]
  },
  {
   "cell_type": "markdown",
   "metadata": {},
   "source": [
    "\n",
    "Operador  |    Nome     |     Explicação\n",
    "----------|-------------|---------------------\n",
    "+         | Adição      | Soma dois objetos\n",
    "-         | Subtração  | Define um número negativo ou a subtração de um número por outro\n",
    "*         | Multiplicação|  Devolve o produto de dois números ou uma string repetida uma certa quantidade de vezes\n",
    "\\**        | Potência | Retorna x elevado à potência de y\n",
    "/          | Divisão  | Divide x por y\n",
    "//         | Divisão Inteira | Devolve a parte inteira do quociente\n",
    "\\% | Modulo| Devolve o resto da divisão inteira\n",
    "< | Menor que | Compara x a y. Devolvendo True(verdadeiro) se x é menor que y, e False(falso) caso contrário\n",
    "\\> | Maior que | Devolvendo True se x é maior que y, e False caso contrário.\n",
    "<= | Menor ou igual a | Devolvendo True se x é menor ou igual a y, e False caso contrário.\n",
    "\\>= | Maior ou igual a | Devolvendo True se x é maior ou igual a y, e False caso contrário.\n",
    "== | Igual a | Avalia se os objetos são iguais\n",
    "!= | Diferente de | Avalia se os objetos são diferentes\n",
    "not | Operador booleano NOT | Se x é True, devolve False. Se x é False, ele devolve True.\n",
    "and | Operador booleano AND | x and y devolve False se x é False, senão devolve a avaliação de y.\n",
    "or | Operador booleano OR |\tSe x é True, devolve True, senão devolve a avaliação de y."
   ]
  },
  {
   "cell_type": "markdown",
   "metadata": {},
   "source": [
    "Podemos identificar na tabela operadores aritméticos, que podemos usar para fazer \"contas\" quando os argumentos são números. Mas também existem operadores que usamos para definir condições e o resultado é um valor de verdade. É usual dizermos que 3\\<2, é falso. Nestes casos a expressão é avaliada como sendo verdadeira (True) ou falsa (False)."
   ]
  },
  {
   "cell_type": "code",
   "execution_count": 1,
   "metadata": {
    "collapsed": false
   },
   "outputs": [
    {
     "data": {
      "text/plain": [
       "False"
      ]
     },
     "execution_count": 1,
     "metadata": {},
     "output_type": "execute_result"
    }
   ],
   "source": [
    "3<2"
   ]
  },
  {
   "cell_type": "code",
   "execution_count": 2,
   "metadata": {
    "collapsed": false
   },
   "outputs": [
    {
     "data": {
      "text/plain": [
       "True"
      ]
     },
     "execution_count": 2,
     "metadata": {},
     "output_type": "execute_result"
    }
   ],
   "source": [
    "2<3"
   ]
  },
  {
   "cell_type": "markdown",
   "metadata": {},
   "source": [
    "O valor lógico destas expressões definem uma nova estrutura de dados, nativa do Python, usualmente designados de Booleanos ou Bool (para variar). A propósito: Sempre que quiser saber qual é o tipo dum objecto pode usar o comando **type**."
   ]
  },
  {
   "cell_type": "code",
   "execution_count": 3,
   "metadata": {
    "collapsed": false
   },
   "outputs": [
    {
     "data": {
      "text/plain": [
       "int"
      ]
     },
     "execution_count": 3,
     "metadata": {},
     "output_type": "execute_result"
    }
   ],
   "source": [
    "type(1)"
   ]
  },
  {
   "cell_type": "code",
   "execution_count": 4,
   "metadata": {
    "collapsed": false
   },
   "outputs": [
    {
     "data": {
      "text/plain": [
       "float"
      ]
     },
     "execution_count": 4,
     "metadata": {},
     "output_type": "execute_result"
    }
   ],
   "source": [
    "type(1.0)"
   ]
  },
  {
   "cell_type": "code",
   "execution_count": 5,
   "metadata": {
    "collapsed": false
   },
   "outputs": [
    {
     "data": {
      "text/plain": [
       "str"
      ]
     },
     "execution_count": 5,
     "metadata": {},
     "output_type": "execute_result"
    }
   ],
   "source": [
    "type('uma string')"
   ]
  },
  {
   "cell_type": "code",
   "execution_count": 6,
   "metadata": {
    "collapsed": false
   },
   "outputs": [
    {
     "data": {
      "text/plain": [
       "bool"
      ]
     },
     "execution_count": 6,
     "metadata": {},
     "output_type": "execute_result"
    }
   ],
   "source": [
    "type(True)"
   ]
  },
  {
   "cell_type": "markdown",
   "metadata": {},
   "source": [
    "Temos assim as estruturas fundamentais:\n",
    "1. int - os números inteiros\n",
    "1. float - os números decimais\n",
    "1. str - as cadeias de caracteres ou strings\n",
    "1. bool - os valores lógicos ou booleanos\n",
    "\n",
    "Os valores lógicos **True** ou **False**, também são constantes literárias, não nos sendo permitido alterar o seu significado. Sendo elemento fundamental para o controlo do fluxo de execução dum programa.\n",
    "\n",
    "Estas estruturas são usadas nestes textos como as estruturas de dados primitivas. Vamos usa-las  como bloco fundamental para a construtução de estruturas mais complexas."
   ]
  },
  {
   "cell_type": "markdown",
   "metadata": {},
   "source": [
    "### Controlo do fluxo de programas\n",
    "\n",
    "Os programas que vimos até aqui, são descritos por uma série de declarações, ficando o interpretador de Python encarregue de as executar seguindo uma ordem pela qual são escritas nas células. \n",
    "\n",
    "Como alterar o fluxo de execução? Por exemplo, se pretende que o programa tome algumas decisões e faça diferentes coisas em função de diferentes situações. Como imprimir 'Bom Dia' ou 'Boa Tarde', dependendo da hora do dia?\n",
    "\n",
    "Isto é consumado usando as instruções de controle de fluxo no Python *if*, *for* e *while*, permitindo executar um ou mais blocos de instruções apenas ou enquanto uma condição for verdadeira. Neste Capítulo vamos centrar o nosso esforço no comando *if*."
   ]
  },
  {
   "cell_type": "markdown",
   "metadata": {},
   "source": [
    "#### Blocos controlados por um *if*\n",
    "A instrução *if* é usada para decidir que bloco de código deve ser executado em seguida. A escolha do bloco a executar é determinado pelo valor lógico de uma condição usado como argumento do comando. Caso a condição seja verdadeira um conjunto de \"instruções\" é executado em detrimento de outro, que só será executado quando a condição é falsa. Estes blocos executáveis quando a condição é verdadeira é designado de  *bloco-if* (*if-block*), o bloco que é executado quando a condição é falsa é designado de  *bloco-else* (*else-block*)). \n",
    "\n",
    "A sintaxe da instrução é apresentada de seguida. Para isso execute a célula abaixo para diferentes valores de *x*.\n"
   ]
  },
  {
   "cell_type": "code",
   "execution_count": 7,
   "metadata": {
    "collapsed": false
   },
   "outputs": [
    {
     "name": "stdout",
     "output_type": "stream",
     "text": [
      "-._-._-._-._-._-._-._-._-._-._\n",
      "O número não é maior que 2.\n",
      "_.-_.-_.-_.-_.-_.-_.-_.-_.-_.-\n"
     ]
    }
   ],
   "source": [
    "x=2\n",
    "\n",
    "if x>2:\n",
    "    print(10*'.^.')\n",
    "    print('O número é maior que 2.')\n",
    "    print(10*'\\'v\\'')\n",
    "else:\n",
    "    print(10*'-._')\n",
    "    print('O número não é maior que 2.')\n",
    "    print(10*'_.-')"
   ]
  },
  {
   "cell_type": "markdown",
   "metadata": {},
   "source": [
    "Note que a linha da instrução *if* termina com ''dois pontos'' indicando que a seguir há um bloco de instruções.\n",
    "\n",
    "Quando a condição x>2 é verdadeira é executado o *bloco-if*\n",
    "```\n",
    "    print(10*'.^.')\n",
    "    print('O número é maior que 2.')\n",
    "    print(10*'\\'v\\'')\n",
    "```\n",
    "Sem que a condição x>2 é falsa é executado o *bloco-else*\n",
    "```\n",
    "    print(10*'-._')\n",
    "    print('O número não é maior que 2.')\n",
    "    print(10*'_.-')\n",
    "```"
   ]
  },
  {
   "cell_type": "markdown",
   "metadata": {},
   "source": [
    "Alter o conteúdo da célula acima para ver as alterações do resultado da execução. Podemos assim garantir que o código a executar vai depender do valor que for referenciado pela variável *x*.\n",
    "\n",
    "#### Como indentar os blocos\n",
    "\n",
    "Não misturar tabulações com espaços a quando da indentação, já que nem todas as plataformas a suportam. É recomendado o uso de uma tabulação, ou dois espaços ou quatro espaços para distinguir cada nível de indentação. Escolha um destes estilos de indentação. Mais importante que a escolha que faz, deve manter-se consistente a ela, ou seja, mantenha apenas um tipo de indentação ao longo de todo o código. \n",
    "\n",
    "Na maioria dos ambientes de programação, como nos Jupyther Notebooks, o sistema tenta ajudar no processo de indentação. Cabendo ao programador saber quando deve remover a indetação. Note nos exemplos abaixo que a identação determina o fluxo de execução."
   ]
  },
  {
   "cell_type": "code",
   "execution_count": 15,
   "metadata": {
    "collapsed": false
   },
   "outputs": [
    {
     "name": "stdout",
     "output_type": "stream",
     "text": [
      "'v''v''v''v''v''v''v''v''v''v'\n"
     ]
    }
   ],
   "source": [
    "x=1\n",
    "\n",
    "if x>2:\n",
    "    print(10*'.^.')\n",
    "    print('O número é maior que 2.')\n",
    "print(10*'\\'v\\'')"
   ]
  },
  {
   "cell_type": "markdown",
   "metadata": {},
   "source": [
    "Agora só temos um *bloco-if* com  duas instruções. O último *print* é executado porque a condição só controla a execução das duas intruções que estão no bloco."
   ]
  },
  {
   "cell_type": "code",
   "execution_count": 2,
   "metadata": {
    "collapsed": false
   },
   "outputs": [
    {
     "name": "stdout",
     "output_type": "stream",
     "text": [
      "O número é maior que 2.\n",
      "'v''v''v''v''v''v''v''v''v''v'\n"
     ]
    }
   ],
   "source": [
    "x=1\n",
    "\n",
    "if x>2:\n",
    "    print(10*'.^.')\n",
    "print('O número é maior que 2.')\n",
    "print(10*'\\'v\\'')"
   ]
  },
  {
   "cell_type": "markdown",
   "metadata": {},
   "source": [
    "Acima a condição só controla a execução do primeiro *print*. Como a condição é falsa esse *print* é o único a não ser executado."
   ]
  },
  {
   "cell_type": "code",
   "execution_count": 3,
   "metadata": {
    "collapsed": true
   },
   "outputs": [],
   "source": [
    "x=1\n",
    "\n",
    "if x>2:\n",
    "    print(10*'.^.')\n",
    "    print('O número é maior que 2.')\n",
    "    print(10*'\\'v\\'')"
   ]
  },
  {
   "cell_type": "markdown",
   "metadata": {},
   "source": [
    "Agora, como a condição contínua a ser falsa, as três instruções do bloco não são executadas. Neste caso não é produzido nenhum output."
   ]
  },
  {
   "cell_type": "markdown",
   "metadata": {},
   "source": [
    "Um pouco mais abaixo pode encontrar um exemplo mais realista. Chamámos a esse programa \"Descobre o número\". O que ela faz é referenciar um inteiro e pede ao utilizador para o descobrir. A necessidade de pedir informação para contínuar a execução de um programa exige a introdução duma novas função. Na vedade neste exemplo vai poder facilmente identificar duas novas funções, a utilização de um novo operador relacional e uma nova sintaxe para o comando *if*. As novas funções são **input** e **int**, a nova relação é **==**.\n",
    "\n",
    "A função **input** tem por argumento uma *string* e devolve uma *string*. Isto define a assinatura da função e temos por hábito escrever **input:str->str**, para significar que entra uma string e sai uma string. A *string* que serve de argumento é usada como *prompt*, ou seja título de uma pergunta feita pelo interpretador ao utilizador. A reposta do utilizador deve ser uma sequência de símbolos, que é aceite pelo sistema quando é carregada na tecla de ENTER (ou seja RETURN). Sendo a cadeia transformada numa *string*, de é devolvida como output pela função:"
   ]
  },
  {
   "cell_type": "code",
   "execution_count": 1,
   "metadata": {
    "collapsed": false
   },
   "outputs": [
    {
     "name": "stdout",
     "output_type": "stream",
     "text": [
      "Qual é o seu nome? Miguel\n"
     ]
    }
   ],
   "source": [
    "valor = input(\"Qual é o seu nome? \")"
   ]
  },
  {
   "cell_type": "markdown",
   "metadata": {},
   "source": [
    "A variável *valor* passa a referênciar a cadeia de símbolos que usa para escrever o seu nome."
   ]
  },
  {
   "cell_type": "code",
   "execution_count": 5,
   "metadata": {
    "collapsed": false
   },
   "outputs": [
    {
     "name": "stdout",
     "output_type": "stream",
     "text": [
      "Qual é o número? 13\n"
     ]
    },
    {
     "data": {
      "text/plain": [
       "'13'"
      ]
     },
     "execution_count": 5,
     "metadata": {},
     "output_type": "execute_result"
    }
   ],
   "source": [
    "input(\"Qual é o número? \")"
   ]
  },
  {
   "cell_type": "markdown",
   "metadata": {},
   "source": [
    "Apesar de o utilizador escrever uma sequência de digitos, é devolvida a sequência como sendo uma *string*. \n",
    "\n",
    "Nestes casos, quando temos de usar um objeto de um tipo como sendo outro, devemos recorrer a uma função de conversão. Para a conversão de objetos para números podemos usar os comandos **int** ou **float**. A primeira converte o objeto para um número inteiro. A segunda converte o objeto para um número decimal. Quando os objetos de *input* são strings a assinatura das funções é **int:str->int** e **float:str->float**."
   ]
  },
  {
   "cell_type": "code",
   "execution_count": 11,
   "metadata": {
    "collapsed": false
   },
   "outputs": [
    {
     "data": {
      "text/plain": [
       "12300"
      ]
     },
     "execution_count": 11,
     "metadata": {},
     "output_type": "execute_result"
    }
   ],
   "source": [
    "int('0012300')"
   ]
  },
  {
   "cell_type": "code",
   "execution_count": 12,
   "metadata": {
    "collapsed": false
   },
   "outputs": [
    {
     "data": {
      "text/plain": [
       "1.23"
      ]
     },
     "execution_count": 12,
     "metadata": {},
     "output_type": "execute_result"
    }
   ],
   "source": [
    "float('001.2300')"
   ]
  },
  {
   "cell_type": "markdown",
   "metadata": {},
   "source": [
    "É obvio que uma mensagem de erro é devolvida caso a conversão não possa ser resolvida. Abaixo apresentamos a avaliação da área de um triângulo genérico (aqui tem mesmo de executar a célula para pode ver este comportamento):"
   ]
  },
  {
   "cell_type": "code",
   "execution_count": 10,
   "metadata": {
    "collapsed": false
   },
   "outputs": [
    {
     "name": "stdout",
     "output_type": "stream",
     "text": [
      "Qual é a altura? h=2\n",
      "Qual é a base? b=1.5\n",
      "A área do triângulo é  1.5 .\n"
     ]
    }
   ],
   "source": [
    "h=input('Qual é a altura? h=')\n",
    "l=input('Qual é a base? b=')\n",
    "area=float(h)*float(l)/2\n",
    "print(\"A área do triângulo é \",area,\".\")"
   ]
  },
  {
   "cell_type": "markdown",
   "metadata": {},
   "source": [
    "Como já tinhamos referido, comparamos objetos usando operadores relacionais. Já usamos os operadores *<* e *>*, que lhe são famíliares da matemática e que interpreta como *menor* e *maior*. Por *<=* e *>=* o interpretador identifica *menor ou iguel* e *maior ou igual*. Já a igualdade de objeto é codificada por *==*, por forma a o distinguir do operador de atribuição. Já a relação diferente é codificada por *!=* ou *<>*."
   ]
  },
  {
   "cell_type": "code",
   "execution_count": 13,
   "metadata": {
    "collapsed": false
   },
   "outputs": [
    {
     "name": "stdout",
     "output_type": "stream",
     "text": [
      "False\n",
      "True\n",
      "True\n",
      "True\n",
      "False\n",
      "True\n",
      "True\n",
      "False\n"
     ]
    }
   ],
   "source": [
    "print(2==2+1)\n",
    "print(2==2+0)\n",
    "print(2<=2+1)\n",
    "print(2<=2+0)\n",
    "print(2>=2+1)\n",
    "print(2>=2+0)\n",
    "print(2!=2+1)\n",
    "print(2!=2+0)"
   ]
  },
  {
   "cell_type": "markdown",
   "metadata": {},
   "source": [
    "Estas relações podem ser aplicados aos mais diferentes objetos. Para um descrição sistemática use a documentação do interpretador, em https://www.python.org/. Aqui vamos restringir as comparações a objetos numéricos. Abrimos apenas execções à igualdade de strings."
   ]
  },
  {
   "cell_type": "code",
   "execution_count": 14,
   "metadata": {
    "collapsed": false
   },
   "outputs": [
    {
     "name": "stdout",
     "output_type": "stream",
     "text": [
      "True\n",
      "False\n",
      "False\n",
      "True\n"
     ]
    }
   ],
   "source": [
    "print('ab'=='a'+'b')\n",
    "print('ab'=='a'+'c')\n",
    "print('ab'!='a'+'b')\n",
    "print('ab'!='a'+'c')"
   ]
  },
  {
   "cell_type": "markdown",
   "metadata": {},
   "source": [
    "Aqui fica o exemplo mais completo. Note que na célula existem linhas com texto que começam com # (cardinal). O texto que precede # é usualmente designado por comentário, não sendo executado pelo interpretador. Os comentários tentam tornar a implementação mais clara. Têm por principal objectivo tornar o código mais claro."
   ]
  },
  {
   "cell_type": "code",
   "execution_count": 8,
   "metadata": {
    "collapsed": false
   },
   "outputs": [
    {
     "name": "stdout",
     "output_type": "stream",
     "text": [
      "Qual é o número inteiro? 10\n",
      "Não, é maior que isso.\n",
      "Adeus.\n"
     ]
    }
   ],
   "source": [
    "#\n",
    "# Programa descobe o número que está referênciado em memória\n",
    "#\n",
    "\n",
    "numero = 23 # este é o número que tentamos descobrir\n",
    "\n",
    "hipotese = int(input('Qual é o número inteiro? '))\n",
    "\n",
    "if hipotese == numero:\n",
    "    print('Parabéns, você acertou.') # Novo bloco começa aqui\n",
    "    print('Tenha um bom dia...') # Novo bloco termina aqui\n",
    "elif hipotese < numero:\n",
    "    print('Não, é maior que isso.')  # Outro bloco\n",
    "    # O bloco pode conter uma ou mais linhas ...\n",
    "else:\n",
    "    print('Não, é menor que isso.')\n",
    "\n",
    "print('Adeus.') \n",
    "# Esta última instrução é sempre executada, depois da instrução if \n",
    "# ser executada"
   ]
  },
  {
   "cell_type": "markdown",
   "metadata": {},
   "source": [
    "Neste programa, é inquirido o utilizador por um número inteiro e é verificado se este é igual a um número escondido. \n",
    "\n",
    "É obvio que o exemplo é patetico. Já vimos o número e no caso de termos má memória só temos uma tentativa. Na verdade, fora do Jupyter, o utilizador não tem acesso directo ao código, o que torna o exemplo mais \"realista\". Vaí ter de contínuar a ter de executar o programa várias vezes até resolver o puzzle.\n",
    "\n",
    "No programa são usadas duas variáveis *numero* e *hipotese*. Usa-se a variável *numero* para referenciar o inteiro a adivinhar, neste caso *number = 23*. O utilizador tem apenas uma tentativa para adivinhar o número. A hipótese do utilizador é feita através da função *input()* que acabamos de descrever. Que será referenciada pela variável *hipotese*. Para isso, a função **input**, cria uma *prompt*  e espera até que o utilizador escreva uma cadeia de caracteres e tecle ENTER (ou RETURN).  A *string* que o utilizador fornece é usada como valor devolvido pela função. A função **int**, converte essa *string* para um inteiro, passado a ser referenciado pela variável *hipotese*. \n",
    "\n",
    "Em seguida, é comparado o inteiro referenciado pela variável *hipotese* com o número referenciado por *numero*.Se eles forem iguais, imprime-se uma mensagem a felicitar o utilizador. Note que, são utilizados níveis de identação para informar o interpretador de Python que a sequência de instruções pertence a um bloco. \n",
    "\n",
    "Caso a tentativa do utilizador seja menor que o número referenciado pela variável *numero*, informa-se que tente na próxima execução  um número maior que o número da presente tentativa. Usa-se aqui uma cláusula **elif** para reduz a quantidade de identações requeridas por estas duas condições.  É neste sentido que dizemos que agora o commando **if** controla agora três blocos de execução: um **bloco-if** que descreve o que fazer quando os números são iguais; um **bloco-elif** que diz o que fazer quando o número é maior; e um **bloco-else** que diz o que fazer caso contrário.\n",
    "\n",
    "Após ser executada a instrução de um dos blocos (e só um), a execução passa para o próximo bloco de instruções. Neste caso, volta ao bloco principal onde encontra a instrução **print('Adeus.')**. Após executar esta linha de código, o interpretador termina a execução do código.\n",
    "\n",
    "Na verdade, não é muito prático ter de executar o programa sempre que se quer fazer uma nova tentativa. Vamos tratar deste problema no próximo Capítulo com a introsução dos ciclos **while**.\n",
    " \n",
    "Devemos realçar que as partes **elif** e **else** são opcionais. Uma instrução **if** mínima válida assume a forma: "
   ]
  },
  {
   "cell_type": "code",
   "execution_count": null,
   "metadata": {
    "collapsed": true
   },
   "outputs": [],
   "source": [
    "if True:\n",
    "    print('Sim, é verdade')   "
   ]
  },
  {
   "cell_type": "markdown",
   "metadata": {},
   "source": [
    "Não existindo limite ao número de *elif*s. O bloco controlado por um *elif* só é executado caso a sua cláusula seja verdadeira e as condições que lhe estão acima sejam falsas."
   ]
  },
  {
   "cell_type": "code",
   "execution_count": 16,
   "metadata": {
    "collapsed": false
   },
   "outputs": [
    {
     "name": "stdout",
     "output_type": "stream",
     "text": [
      "um\n"
     ]
    }
   ],
   "source": [
    "x = 1\n",
    "\n",
    "if x == 0:\n",
    "    print('zero')\n",
    "elif x==1:\n",
    "    print('um')\n",
    "elif x==2:\n",
    "    print('dois')\n",
    "else:\n",
    "    print('Não é nem zero, nem um, nem dois.')"
   ]
  },
  {
   "cell_type": "markdown",
   "metadata": {},
   "source": [
    "## Funções definidas em Python\n"
   ]
  },
  {
   "cell_type": "markdown",
   "metadata": {},
   "source": [
    "## Exercícios de Python"
   ]
  },
  {
   "cell_type": "markdown",
   "metadata": {},
   "source": [
    "É importante tentar resolver os exercícios seguintes. Alguns podem parecer dificeis, leia com atenção o enunciado, recorde os  anteriores e exprimente, exprimente...."
   ]
  },
  {
   "cell_type": "markdown",
   "metadata": {},
   "source": [
    "##### Exercício:\n",
    "Escreva a função abaixo a função:\n",
    "\n",
    "    def mod3(n):\n",
    "        return n % 3\n",
    "\n",
    "e execute-a para diferentes argumentos inteiros. Qual a interpretação para o operador % em Python? Qual o comportamento da função para números negativos?"
   ]
  },
  {
   "cell_type": "code",
   "execution_count": null,
   "metadata": {
    "collapsed": true
   },
   "outputs": [],
   "source": [
    "def mod3(n):\n",
    "    return n % 3"
   ]
  },
  {
   "cell_type": "code",
   "execution_count": null,
   "metadata": {
    "collapsed": false
   },
   "outputs": [],
   "source": [
    "mod3(3)"
   ]
  },
  {
   "cell_type": "markdown",
   "metadata": {},
   "source": [
    "##### Exercício:\n",
    "Defina a função incrementaUmaUnidade, que tenha por argumento $x$ e devolva $x+1$. Teste a sua função para $x=3$, $x=5$ e $x=1.5$."
   ]
  },
  {
   "cell_type": "code",
   "execution_count": null,
   "metadata": {
    "collapsed": true
   },
   "outputs": [],
   "source": []
  },
  {
   "cell_type": "code",
   "execution_count": null,
   "metadata": {
    "collapsed": true
   },
   "outputs": [],
   "source": []
  },
  {
   "cell_type": "markdown",
   "metadata": {},
   "source": [
    "##### Exercício:\n",
    "Defina a função somaDe1AteN(n), que devolve $1+2+\\ldots+n$ usando a fórmula $1+2+\\ldots+n=\\frac{n(n+1)}{2}$. Teste a função para vários valores de $n$."
   ]
  },
  {
   "cell_type": "markdown",
   "metadata": {},
   "source": [
    "##### Exercício:\n",
    "Defina a função inverso(x), que devolve $1/x$. Aplique a função para $x=0$. Como é que o Python trata o domínio natural duma função?\\label{inverso}"
   ]
  },
  {
   "cell_type": "markdown",
   "metadata": {},
   "source": [
    "##### Exercício:\n",
    "Assumindo definida a função duplica(x), que devolve $2x$, e a função incrementaUmaUnidade(x), dum exercício anterior. Qual é o resultado de duplica(incrementaUmaUnidade(6))? Qual é o resultado de incrementaUmaUnidade(duplica(6))}? Explique esses resultados."
   ]
  },
  {
   "cell_type": "markdown",
   "metadata": {},
   "source": [
    "##### Exercício:\n",
    "Tente executar incrementaUmaUnidade, dum exercício anterior com argumento '123'. Podemos adicionar um número a uma string em Python?"
   ]
  },
  {
   "cell_type": "markdown",
   "metadata": {},
   "source": [
    "##### Exercício:\n",
    "Tente executar duplica, dum exercício anterior com argumento '123'. Qual o comportamento do operador $\\ast$ quando tem por operandos um inteiro e uma string?"
   ]
  },
  {
   "cell_type": "markdown",
   "metadata": {},
   "source": [
    "##### Exercício:\n",
    "No Python, se s é uma string, s[0] identifica o primeiro caracter. Defina e teste uma função que quando aplicada a uma string devolva o seu primeiro caracter."
   ]
  },
  {
   "cell_type": "markdown",
   "metadata": {},
   "source": [
    "##### Exercício:\n",
    "No Python, [a, b, c, $\\ldots$, x] representa uma lista de objectos. Por exemplo [1, 5, 2] representa a lista com três números: 1, 5 e 2. Qual é o comportamento da função dum exercício anterior quando tem por argumento uma lista?"
   ]
  },
  {
   "cell_type": "markdown",
   "metadata": {},
   "source": [
    "##### Exercício:\n",
    "Qual o resultado de aplicar as funções $sum$, $min$ e $max$ (funções pré-definidas) a uma lista de números?"
   ]
  },
  {
   "cell_type": "markdown",
   "metadata": {},
   "source": [
    "##### Exercício:\n",
    "Qual o resultado de executar $min(range(n))$ e $max(range(n))$, quando $n$ é um inteiro positivo?"
   ]
  },
  {
   "cell_type": "markdown",
   "metadata": {},
   "source": [
    "##### Exercício:\n",
    "Reescreva a função somaDe1AteN do exercício anterior por forma a usar funções apresentadas nos exercícios sum e range."
   ]
  },
  {
   "cell_type": "markdown",
   "metadata": {},
   "source": [
    "##### Exercício:\n",
    "Explique o resultado da execução de 2+-2 e 2++2."
   ]
  },
  {
   "cell_type": "code",
   "execution_count": null,
   "metadata": {
    "collapsed": false
   },
   "outputs": [],
   "source": [
    "2+-2"
   ]
  },
  {
   "cell_type": "code",
   "execution_count": null,
   "metadata": {
    "collapsed": false
   },
   "outputs": [],
   "source": [
    "2++2"
   ]
  },
  {
   "cell_type": "markdown",
   "metadata": {},
   "source": [
    "##### Exercício:\n",
    "Experimente 2+++2. Explique o resultado."
   ]
  },
  {
   "cell_type": "code",
   "execution_count": null,
   "metadata": {
    "collapsed": true
   },
   "outputs": [],
   "source": []
  },
  {
   "cell_type": "markdown",
   "metadata": {},
   "source": [
    "##### Exercício:\n",
    "Experimente 2**3 e 2**4. Descreva o comportamento do operador **."
   ]
  },
  {
   "cell_type": "code",
   "execution_count": null,
   "metadata": {
    "collapsed": true
   },
   "outputs": [],
   "source": []
  },
  {
   "cell_type": "markdown",
   "metadata": {},
   "source": [
    "##### Exercício:\n",
    "Experimente \"abc\" + \"def\" e 'abc' + 'def'. Descreva o comportamento do operador + quando aplicado a strings."
   ]
  },
  {
   "cell_type": "code",
   "execution_count": null,
   "metadata": {
    "collapsed": true
   },
   "outputs": [],
   "source": []
  },
  {
   "cell_type": "markdown",
   "metadata": {},
   "source": [
    "##### Exercício:\n",
    "O operador * pode ser aplicado a strings? Experimente $3\\ast$'12' e explique o resultado."
   ]
  },
  {
   "cell_type": "code",
   "execution_count": null,
   "metadata": {
    "collapsed": true
   },
   "outputs": [],
   "source": []
  },
  {
   "cell_type": "markdown",
   "metadata": {},
   "source": [
    "##### Exercício:\n",
    "Execute 9-8*2+6 e (5-1)*(1+2)**3. Qual a ordem de precedência dos operadores usados nas expressões?"
   ]
  },
  {
   "cell_type": "code",
   "execution_count": null,
   "metadata": {
    "collapsed": true
   },
   "outputs": [],
   "source": []
  },
  {
   "cell_type": "markdown",
   "metadata": {},
   "source": [
    "##### Exercício:\n",
    "Definindo a função:\n",
    "\n",
    "    def inverso(x):\n",
    "        return 1/x\n",
    "\n",
    "Qual o resultado de executar"
   ]
  },
  {
   "cell_type": "code",
   "execution_count": null,
   "metadata": {
    "collapsed": true
   },
   "outputs": [],
   "source": [
    "def inverso(x):\n",
    "        return 1/x"
   ]
  },
  {
   "cell_type": "code",
   "execution_count": null,
   "metadata": {
    "collapsed": true
   },
   "outputs": [],
   "source": [
    "1 + inverso(2*5)"
   ]
  },
  {
   "cell_type": "markdown",
   "metadata": {},
   "source": [
    "Como é feita a avaliação quando um dos operadores é uma função? Como é feita a avaliação quando uma função é aplicada a uma expressão?"
   ]
  },
  {
   "cell_type": "code",
   "execution_count": null,
   "metadata": {
    "collapsed": true
   },
   "outputs": [],
   "source": []
  },
  {
   "cell_type": "markdown",
   "metadata": {},
   "source": [
    "##### Exercício:\n",
    "A função abaixo devolve o primeiro caracter duma \\emph{string}:"
   ]
  },
  {
   "cell_type": "code",
   "execution_count": null,
   "metadata": {
    "collapsed": true
   },
   "outputs": [],
   "source": [
    "def primeiro(s):\n",
    "    return s[0]"
   ]
  },
  {
   "cell_type": "markdown",
   "metadata": {},
   "source": [
    "Adicione à função uma \\emph{string} de documentação. Execute:"
   ]
  },
  {
   "cell_type": "code",
   "execution_count": null,
   "metadata": {
    "collapsed": false
   },
   "outputs": [],
   "source": [
    "primeiro('Bom dia')"
   ]
  },
  {
   "cell_type": "markdown",
   "metadata": {},
   "source": [
    "e de executar"
   ]
  },
  {
   "cell_type": "code",
   "execution_count": null,
   "metadata": {
    "collapsed": true
   },
   "outputs": [],
   "source": [
    "primeiro.__doc__"
   ]
  },
  {
   "cell_type": "markdown",
   "metadata": {},
   "source": [
    "##### Exercício:\n",
    "Identifique os erros de sintaxe na definição da função abaixo:"
   ]
  },
  {
   "cell_type": "code",
   "execution_count": null,
   "metadata": {
    "collapsed": true
   },
   "outputs": [],
   "source": [
    "def codigoErrado(x):\n",
    "    Return X**2 - 1"
   ]
  },
  {
   "cell_type": "markdown",
   "metadata": {},
   "source": [
    "##### Exercício:\n",
    "No Python, *s[-1]* identifica a último caracter duma string *s* (ou o último elemento duma lista *s*). Escreva uma função em que, de uma string *s* construa uma nova string contendo dois caracteres: o primeiro e o último caracter em *s*. Introduza um string de documentação no seu código."
   ]
  },
  {
   "cell_type": "code",
   "execution_count": null,
   "metadata": {
    "collapsed": true
   },
   "outputs": [],
   "source": []
  },
  {
   "cell_type": "code",
   "execution_count": null,
   "metadata": {
    "collapsed": true
   },
   "outputs": [],
   "source": []
  },
  {
   "cell_type": "markdown",
   "metadata": {},
   "source": [
    "### Referências\n",
    "\n",
    "\n",
    "- [1] Al Sweigart, 2015 [Automate the Boring Stuff with Python: Practical Programming for Total Beginners](https://automatetheboringstuff.com/).\n",
    "- [2] Swaroop C. H. \"A Byte of Python.\" <http://www.swaroopch.com/notes/python/>."
   ]
  }
 ],
 "metadata": {
  "anaconda-cloud": {},
  "kernelspec": {
   "display_name": "Python [default]",
   "language": "python",
   "name": "python3"
  },
  "language_info": {
   "codemirror_mode": {
    "name": "ipython",
    "version": 3
   },
   "file_extension": ".py",
   "mimetype": "text/x-python",
   "name": "python",
   "nbconvert_exporter": "python",
   "pygments_lexer": "ipython3",
   "version": "3.5.2"
  }
 },
 "nbformat": 4,
 "nbformat_minor": 0
}
