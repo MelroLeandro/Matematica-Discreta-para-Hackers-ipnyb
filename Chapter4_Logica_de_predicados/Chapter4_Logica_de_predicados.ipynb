{
 "cells": [
  {
   "cell_type": "markdown",
   "metadata": {},
   "source": [
    "Chapter 4\n",
    "======\n",
    "\n",
    "This chapter introduces more"
   ]
  },
  {
   "cell_type": "markdown",
   "metadata": {},
   "source": [
    "Existem muitas afirmações que se fazem em Matemática que não podem ser simbolizadas e analisadas em termos de cálculo proposicional. Para além da complexidade externa introduzida pelas diferentes conectivas, uma afirmação pode conter complexidades internas que advém de palavras tais como ''todo'', ''cada'', ''algum'', etc. as quais requerem uma análise lógica que está para além do cálculo proposicional. Tal análise é o objecto da chamada \\textbf{Lógica de Predicados}."
   ]
  },
  {
   "cell_type": "markdown",
   "metadata": {},
   "source": [
    "### Variáveis\n",
    "No desenvolvimento de qualquer teoria, aparecem muitas vezes afirmações sobre objectos genéricos da teoria, que são representados por letras designadas de \\textbf{variáveis}.\n",
    "\n",
    "#### Predicado\n",
    "Representando por *x* um número inteiro genérico, pode ser necessário analisar (sob o ponto de vista lógico) afirmações do tipo\n",
    "\n",
    "> \"*x* é maior que 3\"\n",
    "\n",
    "Como já foi referido, tal afirmação não é uma proposição: o seu valor lógico tanto pode ser verdade ou falso. Uma afirmação deste tipo denota-se genericamente por *P(x)* para mostrar que $P$ depende da variável $x$, obtendo-se assim, uma **fórmula** com uma **variável livre** *x*. Para evidenciar isso muitas vezes escrevemos:\n",
    "\n",
    "> \"*P(x):x* é maior que 3\"\n",
    "\n",
    "Substituindo *x* em *P(x)* por um dado valor, 6 por exemplo, obtém-se *P(6)* que é uma proposição: *P(6)* é uma proposição verdadeira; *P(2)*, no entanto, é uma proposição falsa. Neste sentido, *P* é designada por **função proposicional** ou **predicado**, e *P(x)* é designada de **expressão proposicional** ou **condição**.\n"
   ]
  },
  {
   "cell_type": "markdown",
   "metadata": {},
   "source": [
    "### Conjuntos de verdade\n",
    "Quando se estudam proposições - fórmulas sem variáveis livres - pode falar-se no seu valor lógico de verdade ou falsidade. Mas se uma fórmula contiver variáveis livres (uma ou mais) então não poderá falar-se no seu valor lógico e dizer simplesmente que tal fórmula é verdadeira ou falsa. O seu valor lógico depende do valor atribuído à variável (ou variáveis). A tais predicados associam-se então os chamados **conjuntos de verdade** que são os conjuntos de valores para os quais *p(x)* é verdadeira. Escreve-se com este sentido\n",
    "$$\n",
    "A=\\{x:P(x)\\}\n",
    "$$\n",
    "o que se lê da seguinte forma: *A* é o conjunto cujos elementos satisfazem *P(x)* ou para os quais *P(x)* é verdadeira. Observe-se que, reciprocamente, dado um conjunto *A* qualquer, pode sempre definir-se uma fórmula com variáveis livres que tem *A* por conjunto de verdade. Isso pode ser feito, por exemplo, pelo predicado\n",
    "$$\n",
    "P_A(x):''x\\in A''\n",
    "$$\n",
    "e portanto\n",
    "$$\n",
    "A=\\{x:P_A(x)\\}.\n",
    "$$"
   ]
  },
  {
   "cell_type": "markdown",
   "metadata": {},
   "source": [
    "#### Paradoxo de Russel\n",
    "\n",
    "Neste contexto a existência dum **conjunto universal** $\\{x: x=x\\}$ e dum **conjunto vazio** $\\{x:x\\neq x\\}$ intuitivamente podem parecer razoáveis. No entanto, podem conduzir a situações paradoxais, como deu conta Bertrand Russel, por volta de 1901.\n",
    "\n",
    "Russel começou por notar que se se adoptar a concepção intuitiva de conjunto, pode dizer-se que alguns conjuntos são membros de si próprios enquanto outros não o são. Um conjunto de cadeiras, por exemplo não é uma cadeira, não sendo assim um elemento de si próprio; no entanto, o conjunto de todas as ideias abstractas é, ele próprio, uma ideia abstracta, pelo que pertence a si própria. As propriedades \"ser elemento de si próprio\" e \"não ser membro de si próprio\" parecem assim ser propriedades perfeitamente adequadas para definir conjuntos.\n",
    "\n",
    "Seja $R$ o conjunto de todos os conjuntos que não estão contidos em si próprio. Formalmente seja\n",
    "$$\n",
    "R=\\{x:x\\not\\in x\\}.\n",
    "$$\n",
    "Os problemas surgem quando nos questionamos se $R$ é elemento ou não de $R$. Porque:\n",
    "1. Supondo que $R\\in R$ temos por definição de $R$ que $R\\not \\in R$,\n",
    "+ Supondo que $R\\not \\in R$ temos por definição de $R$ que $R \\in R$.\n",
    "Assim, a proposição $R \\in R$ não tem valor lógico definido na Lógica Clássica contradizendo o *Princípio do terceiro excluído*.\n",
    "\n",
    "Para evitar este tipo de problema vamos supor que todos os conjuntos considerados são constituídos por elementos de um conjunto $ U$ suficientemente grande, chamado **conjunto universal** ou **universo de discurso**. Neste sentido, um conjunto é uma entidade do tipo\n",
    "$$\n",
    "\\{x\\in U:P(x)\\}\n",
    "$$\n",
    "onde supomos que o predicado *P* está definido para todo o valor de *x* em $U$.\n",
    "\n",
    "A ideia de um conjunto universal estará sempre presente, mesmo quando não seja explicitamente mencionado.\n"
   ]
  },
  {
   "cell_type": "markdown",
   "metadata": {},
   "source": [
    "### Universo de discurso\n",
    "A atribuição de valores às variáveis duma condição $P(x_1,x_2,\\ldots,x_n)$ permite definir proposições. No entanto\n",
    "esta atribuição é limitada a um conjunto de valores do **universo de discurso** do predicado.\n",
    "\n",
    "#### Exemplo:\n",
    "Temos por exemplo:\n",
    "1. $x=x$ tem por exemplos de universo de discurso: $\\mathbb{R},\\mathbb{N},\\mathbb{Q}$ ou $\\mathbb{C}$.\n",
    "+ $\\sqrt{y}\\geq 4$ tem por exemplos de universo de discurso: $\\mathbb{Q}^+,\\mathbb{R}^+$\n",
    "+ $\\frac{1}{x}>3$ tem como possível universo de discurso por exemplo o conjunto dos reais diferentes de zero."
   ]
  },
  {
   "cell_type": "markdown",
   "metadata": {},
   "source": [
    "### Predicados impossíveis, possíveis e universais\n",
    "Podemos assim classificar as expressões proposicionais em\n",
    "1. \\textbf{Impossíveis}, se não existem valores da variável, ou variáveis, no universo, ou universos, que a transformam numa proposição verdadeira.\n",
    "+ \\textbf{Possíveis}, se existem valores das variáveis no universo de discurso que a transformam numa proposição verdadeira. Podemos assim distinguir entre proposições:\n",
    "     1. **Universais**, se são predicados verificados para todos os valores que as variáveis podem assumir no universo,\n",
    "     +  **Contingentes (ou não universais)**, se não são predicados verificadas para todos os valores das variáveis.\n",
    "\n",
    "#### Exemplo\n",
    "Temos por exemplo:\n",
    "1. $x^2+y^2>-4$, com $x\\in \\mathbb{R}$ e $y\\in \\mathbb{R}$, é condição universal;\n",
    "+ $2n+1>0$ é condição universal em $\\mathbb{N}$;\n",
    "+ $|x|+|y|>0$, com $x$ e $y$ reais, é condição contingente, pois não é satisfeita com $x=0$ e $y=0$;\n",
    "+ $n^2>5$ é condição contingente em $\\mathbb{N}$, pois é condição possível não universal."
   ]
  },
  {
   "cell_type": "markdown",
   "metadata": {},
   "source": [
    "### Conjuntos de verdade e conectivas lógicas\n",
    "uponha-se que $A$ é o conjunto de verdade da expressão proposicional $P(x)$ e $B$ é o conjunto de verdade da expressão proposicional $Q(x)$ no universo de discurso $U$. Então\n",
    "$$A=\\{x\\in U:P(x)\\}$$\n",
    "$$B=\\{x\\in U:Q(x)\\}$$\n",
    "O conjunto de verdade da fórmula $P(x)\\wedge Q(x)$ é tal que\n",
    "$$\n",
    "\\{x\\in U:P(x)\\wedge Q(x)\\}=A\\cap B\n",
    "$$\n",
    "De modo semelhante,\n",
    "$$\n",
    "\\{x\\in U:P(x)\\vee Q(x)\\}=A\\cup B\n",
    "$$\n",
    "\n",
    "#### Exemplo\n",
    "Sendo $A=\\{x\\in U:P(x)\\}$ e $B=\\{x\\in U:Q(x)\\}$.\n",
    "Determine os conjuntos de verdade das expressões proposicionais:\n",
    "1. $\\neg P(x)$\n",
    "+ $\\neg Q(x)$\n",
    "+ $P(x)\\wedge (\\neg Q(x))$\n",
    "+ $P(x)\\rightarrow Q(x)$\n",
    "+ $P(x)\\leftrightarrow Q(x)$\n"
   ]
  },
  {
   "cell_type": "markdown",
   "metadata": {
    "collapsed": true
   },
   "source": [
    "### O quantificador universal\n",
    "\n",
    "Como se referiu acima, uma fórmula $P(x)$, contendo uma variável $x$, pode ser verdadeira para alguns valores de $x$ pertencentes ao universo do discurso, e falsa para outros. Por vezes pretende-se dizer que uma dada fórmula $$P(x)$$ se verifica para todos os elementos $$x$$ do universo, i.e. $\\{x\\in U:P(x)\\}=U$. Escreve-se então\n",
    "\n",
    "''para todo o $x$, $P(x)$''\n",
    "\n",
    "o que se representa, simbolicamente, por\n",
    "$$\\forall x\\; P(x).$$\n",
    "O símbolo $\\forall$ é designado por quantificador universal. A fórmula anterior diz que $P(x)$ se verifica para todo o elemento $x$ ou que $P(x)$ se verifica universalmente. Sendo $U$ o universo de discurso, escrever $\\forall x\\; P(x)$ é equivalente a\n",
    "$$\\forall x[x\\in U\\rightarrow P(x)].$$\n",
    "A quantificação universal pode ser feita apenas sobre uma parte de $U$. Assim, se $D$ designar um subconjunto próprio de $U$ e $P(x)$ for uma fórmula com uma variável cujo domínio é $D$, então\n",
    "$$\\forall x\\in D: P(x) \\text{ ou } \\forall x\\;[x\\in D\\rightarrow P(x)]$$\n",
    "afirma que $P(x)$ se verifica para todo o $x\\in D$."
   ]
  },
  {
   "cell_type": "markdown",
   "metadata": {},
   "source": [
    "#### Exemplo:\n",
    "Podemos assim avaliar as proposições abaixo:\n",
    " - $\\forall x(x=x)$ é verdade em $\\mathbb{R}$;\n",
    " - $\\forall x\\in \\mathbb{R}\\forall y\\in \\mathbb{R}:x^2+y^2>-4$ é verdadeira;\n",
    " - $\\forall n\\in \\mathbb{N}:2n+1>0$ é verdadeira;\n",
    " - $\\forall x\\forall y(|x|+|y|>0)$, é falsa no universo dos reais, pois não é satisfeita com $x=0$ e $y=0$;\n",
    " - $\\forall n\\in \\mathbb{N}:n^2>5$ é falsa.\n",
    "  \n",
    "Note que, caso $D$ seja um conjunto finito, por exemplo\n",
    "$$D=\\{a_1,a_2,\\ldots,a_n\\}$$\n",
    "escrever\n",
    "$$ \\forall x\\in D: P(x)$$\n",
    "é logicamente equivalente à conjunção\n",
    "$$P(a_1)\\wedge P(a_2)\\wedge\\ldots\\wedge P(a_n)$$\n",
    "o que mostra que a proposição não tem variáveis livres, tratando-se, portanto duma proposição. O mesmo significado pode ser dado no caso em que $D$ é um conjunto infinito correspondendo, neste caso, a um número infinito de conjunções.\n",
    "\n",
    "#### Exemplo:\n",
    "Note-se que a proposição \n",
    "$\\forall x\\in \\{2,6,12,34\\}:\\;x\\;$é um número par,\n",
    "é uma proposição verdadeira e equivalente a escrever\n",
    "(2 é um número par)$\\wedge$(6 é um número par)$\\wedge$(12 é um número par)$\\wedge$(34 é um número par)"
   ]
  },
  {
   "cell_type": "markdown",
   "metadata": {},
   "source": [
    "### O quantificador existencial\n",
    "Por outro lado, escreve-se\n",
    "$$\\exists x\\; P(x)$$\n",
    "para significar que existe (no universo do discurso) pelo menos um elemento $x$ para o qual $P(x)$ se verifica, i.e. $\\{x\\in U:P(x)\\}\\neq\\emptyset$, o que se pode ler:\n",
    "\n",
    "''existe pelo menos um $x$ tal que $P(x)$''.\n",
    "\n",
    "A fórmula $\\exists x\\; P(x)$ é uma abreviatura (usada normalmente) para a expressão\n",
    "$$\\exists x\\;[x\\in U \\wedge P(x)],$$\n",
    "onde $U$ designa o universo do discurso. O símbolo $\\exists$ é chamado de \\textbf{quantificador existencial}.\n",
    "\n",
    "Se $D$ for um subconjunto de $U$ e $P(x)$ for uma fórmula com uma variável cujo domínio é $D$, então escrevemos\n",
    "$$\\exists x\\in D: P(x)\\text{ ou }\\exists x\\;[x\\in D \\wedge P(x)].$$\n",
    "Supondo que $D$ é o conjunto finito,\n",
    "$$D=\\{a_1,a_2,\\ldots,a_n\\},$$\n",
    "escrever\n",
    "$$\\exists x\\in D: P(x),$$\n",
    "é logicamente equivalente à disjunção\n",
    "$$P(a_1)\\vee P(a_2)\\vee\\ldots\\vee P(a_n),$$\n",
    "o que mostra que tal fórmula não tem variáveis livres, sendo, portanto, uma proposição. O mesmo significado pode ser dado no caso em que $D$ é um conjunto infinito, envolvendo neste caso infinitas disjunções.\n",
    "#### Exemplo\n",
    "Assim, as fórmulas abaixo são proposições\n",
    "1.  $\\exists x(x^2=4)$ é verdade em $\\mathbb{R}$;\n",
    "+ $\\exists x\\in \\mathbb{R}\\exists y\\in \\mathbb{R}:x^2+y^2=0$ é verdadeira;\n",
    "+ $\\exists n\\in \\mathbb{N}:2n+1>0$ é verdadeira;\n",
    "+ $\\exists y\\forall x(|x|+|y|>0)$, é verdadeira em $\\mathbb{R}$;\n",
    "+ $\\exists x\\in \\mathbb{R}:x^2=-4$ é falsa.\n",
    "\n",
    "#### Exemplo\n",
    "Note-se que a proposição:\n",
    "$\\exists x\\in \\{2,6,11,34\\}:\\;x\\;$é ímpar,\n",
    "é uma proposição verdadeira e equivalente a escrever:\n",
    "(2 é ímpar)$\\vee$(6 é ímpar)$\\vee$(11 é ímpar)$\\vee$(34 é ímpar).\n"
   ]
  },
  {
   "cell_type": "markdown",
   "metadata": {},
   "source": [
    "## O universo vazio\n",
    "Por uma questão de generalidade interessa considerar também o caso em que o domínio da variável da fórmula proposicional $P(x)$ é o conjunto vazio. Que valor lógico terão expressões da forma\n",
    "$$\\forall x\\;[x\\in \\emptyset\\rightarrow P(x)]\\text{ e } \\exists x\\;[x\\in \\emptyset\\wedge P(x)]?$$\n",
    "Na primeira expressão a implicação é sempre verdadeira quando o antecedente é falso: é o que acontece aqui. Visto que $x\\in \\emptyset$ é sempre falso, então\n",
    "$$\\forall x\\;[x\\in \\emptyset\\rightarrow P(x)]$$\n",
    "é uma proposição sempre verdadeira. Quando à segunda expressão ela tem a forma de uma conjunção de proposições, das quais uma é sempre falsa. Então,\n",
    "$$\\exists x\\;[x\\in \\emptyset\\wedge P(x)]$$\n",
    "é uma proposição sempre falsa.\n",
    "\n",
    "#### Exemplo\n",
    "Note-se que assim a proposição\n",
    "$$\\exists x\\in \\{\\}:\\;x\\;\\text{é ímpar},$$\n",
    "é uma proposição falsa, e \n",
    "$$\\forall x\\in \\{\\}:\\;x\\;\\text{é ímpar},$$\n",
    "é uma proposição verdadeira.\n",
    "\n",
    "\n",
    "\n",
    "\n"
   ]
  },
  {
   "cell_type": "markdown",
   "metadata": {},
   "source": [
    "### Existe um e um só $\\ldots$\n",
    "Por vezes emprega-se o quantificador existencial numa situação simultânea de unicidade e existência, ou seja, quer afirmar se não só que\n",
    "$$\\exists x\\; P(x)$$\n",
    "mas ainda que a fórmula $P(x)$ se transforma numa proposição verdadeira para um e só para um elemento do domínio de quantificação, i.e. $\\sharp\\{x\\in U:P(x)\\}=1$. Neste caso empregam-se as abreviaturas\n",
    "$$\\exists! x\\; P(x) \\text{ ou }\\exists^1 x\\; P(x)$$\n",
    "que significa\n",
    "\n",
    "\n",
    "''**existe um e um só** $x$ tal que $P(x)$''.\n",
    "\n",
    "#### Exemplo:\n",
    "Assim\n",
    "1. $\\exists^1x\\in \\mathbb{N}:x^2=4$ é uma proposição verdadeira;\n",
    "+ $\\exists^1x\\in \\mathbb{Z}:x^2=4$ é uma proposição falsa;\n",
    "\n",
    "#### Exemplo:\n",
    "Assim a proposição\n",
    "$$\\exists^1 x\\in \\{1,2,3,4,5\\}:\\;x\\;\\text{é ímpar},$$\n",
    "é uma proposição falsa, e\n",
    "$$\\exists^1 x\\in \\{2,3,4\\}:\\;x\\;\\text{é ímpar},$$\n",
    "é uma proposição verdadeira."
   ]
  },
  {
   "cell_type": "markdown",
   "metadata": {},
   "source": [
    "### Variáveis ligadas\n",
    "Observe-se que enquanto a fórmula $P(x)$ tem uma variável livre, $x$, as fórmulas $\\forall x\\; P(x)$ e $\\exists x\\; P(x)$ não têm qualquer variável livre: nestas fórmulas $x$ é sempre uma *variável ligada* (ou *muda*). Trata-se então de proposições, relativamente às quais se pode afirmar que são verdadeiras ou falsas (mas não ambas as coisas).\n",
    "\n",
    "#### Exemplo:\n",
    "Seja $\\mathbb{N}=\\{1,2,3,4,\\ldots\\}$, $P(x)$ a afirmação ''$x$ é par'', $Q(x)$ a afirmação ''$x$ é divisível por 3'' e $R(x)$ a afirmação ''$x$ é divisível por 4''. Expressar em linguagem corrente cada uma das proposições que se seguem e determinar o seu valor lógico.\n",
    "1. $\\forall x\\in \\mathbb{N}:P(x)$\n",
    "+ $\\forall x\\in \\mathbb{N}:P(x)\\vee Q(x)$\n",
    "+ $\\forall x\\in \\mathbb{N}:P(x)\\rightarrow Q(x)$\n",
    "+ $\\forall x\\in \\mathbb{N}:P(x)\\vee R(x)$\n",
    "\n",
    "#### Exemplo:\n",
    "Indicar se as proposições são sempre, às vezes ou nunca verdadeiras.\n",
    "1. $(\\forall x\\in D:P(x))\\Rightarrow (\\exists x\\in D:P(x))$\n",
    "+ $(\\exists x\\in D:P(x))\\Rightarrow (\\forall x\\in D:P(x))$\n",
    "+ $(\\forall x\\in D:\\neg P(x))\\Rightarrow \\neg(\\forall x\\in D:P(x))$"
   ]
  },
  {
   "cell_type": "markdown",
   "metadata": {},
   "source": [
    "### Quantificadores múltiplos\n",
    "\n",
    "Uma fórmula matemática pode ter mais de que uma variável. Considere-se, por exemplo, a afirmação:\n",
    "\n",
    "''para cada número inteiro par $n$ existe um número inteiro $k$ para o qual se verifica a igualdade $n=2k$''\n",
    "\n",
    "Denotando por $P(n,k)$ a fórmula $n=2k$ e por $\\mathbb{P}$ o conjunto dos números inteiros pares, a afirmação pode ser assim apresentada simbolicamente por\n",
    "$$\\forall n\\in \\mathbb{P}\\exists k\\in \\mathbb{Z}:P(n,k)$$\n",
    "ou\n",
    "$$\\forall n[n\\in \\mathbb{P}\\rightarrow \\exists k[k\\in \\mathbb{Z}\\wedge P(n,k)]]$$\n",
    "que constitui uma proposição verdadeira. Outro exemplo de uma proposição com dois quantificadores é\n",
    "$$\\forall x \\exists y\\; x+y=0$$\n",
    "onde o domínio de quantificação é o conjunto dos números reais. Em linguagem corrente, escrever-se-ia\n",
    "\n",
    "''para todo o número real $x$ existe um número real $y$ tal que $x+y=0$''\n",
    "\n",
    "que constitui uma proposição verdadeira (sendo $y=-x$ para cada $x\\in\\mathbb{R}$). Se trocarmos os quantificadores obter-se-á\n",
    "$$\\exists y \\forall x \\; x+y=0$$\n",
    "que significa:\n",
    "\n",
    "''existe um número real $y$ tal que para todo o número real $x$ se tem $x+y=0$''\n",
    "\n",
    "Esta proposição é falsa pois não existe número real $y$, sempre o mesmo, para o qual todo o número real $x$ satisfaz a equação dada.\n",
    "\n",
    "Estes exemplos ilustram a *não comutatividade* dos quantificadores universal, $\\forall$, e existencial, $\\exists$.\n",
    "\n",
    "É importante notar que a *ordem* dos quantificadores é\n",
    "relevante:\n",
    "\n",
    "\n",
    " Proposição | É verdadeira se: | É falsa se: \n",
    " -----------|------------------|-------------\n",
    "$\\forall x\\forall yP(x,y)$ | $P(x,y)$ é verdadeira para  todo o par $x,y$.| Existe um par $x,y$ para o qual $P(x,y)$ é falso. \n",
    "$\\forall x\\exists yP(x,y)$ | Para todo $x$ existe um $y$ para o qual $P(x,y)$ é verdadeira. | Existe um $x$ tal que $P(x,y)$ é falso para todo $y$.\n",
    "$\\exists x\\forall yP(x,y)$ | Existe um $x$ para o qual $P(x,y)$ é verdadeira para todo $y$.| Para todo $x$ existe um $y$ tal que $P(x,y)$ é falso.\n",
    "$\\exists x\\exists yP(x,y)$ | Existe um par $x,y$ para o qual $P(x,y)$ | $P(x,y)$ é falso para todo o par $x,y$.\n",
    "\n",
    "Mais geralmente, uma fórmula pode ter $n$ variáveis\n",
    "$$P(x_1,x_2,\\ldots,x_n).$$\n",
    "Para transformar uma fórmula deste tipo numa proposição são necessários $n$ quantificadores. Denotando um quantificador genérico (universal ou existencial) por $Q$, então\n",
    "$$Qx_1Qx_2\\ldots Qx_nP(x_1,x_2,\\ldots,x_n)$$\n",
    "é uma proposição. **Dois quantificadores da mesma espécie são sempre comutativos enquanto que dois quantificadores de espécies diferentes são geralmente não comutativos.**\n",
    "\n",
    "#### Exercício\n",
    "Seja $Q(x,y,z)$ a expressão \"$x+y=z$\". Determine o valor de verdade\n",
    "das proposições no conjunto dos números inteiros:\n",
    "1. $\\forall x\\forall y \\exists zQ(x,y,z)$\n",
    "+ $\\exists z\\forall x\\forall yQ(x,y,z)$\n"
   ]
  },
  {
   "cell_type": "markdown",
   "metadata": {},
   "source": [
    "### Negação de proposições Quantificadas (Segundas Leis de De Morgan)\n",
    "Resumindo:\n",
    "\n",
    "Proposição | Quando é verdadeira? | Quando é falsa?\n",
    "------------|-------------  -------|-----------------\n",
    "$\\forall xP(x)$ | $P(x)$ é verdadeiro para todo o $x$ | Existe um $x$ para o qual $P(x)$ é falso \n",
    "$\\exists xP(x)$ | Existe um $x$ para o qual $P(x)$ é verdadeiro | $P(x)$ é falso para todo o $x$ \n",
    "\n",
    "Dadas as proposições com quantificadores\n",
    "$$\\forall x[x\\in U\\rightarrow P(x)]\\text{ e } \\exists x [x\\in U\\wedge P(x)]$$\n",
    "pode ser necessário analisar (logicamente) as proposições\n",
    "$$\\neg(\\forall x[x\\in U\\rightarrow P(x)])\\text{ e } \\neg(\\exists x [x\\in U\\wedge P(x)])$$\n",
    "Tendo em conta que $p\\rightarrow \\neg q$ é equivalente a $\\neg(p\\wedge q)$, então\n",
    "$$\\neg(\\exists x [x\\in U\\wedge P(x)])\\Leftrightarrow \\forall x\\;\\neg[x\\in U\\wedge P(x)]\\Leftrightarrow \\forall x\\; [x\\in U\\Rightarrow \\neg P(x)]$$\n",
    "De modo semelhante, pode verificar-se que\n",
    "$$\\neg(\\forall x[x\\in U\\rightarrow P(x)])$$\n",
    "equivale a\n",
    "$$\\exists x \\neg[x\\in U\\rightarrow P(x)]\\Leftrightarrow \\exists x [x\\in U\\wedge \\neg P(x)]$$\n",
    "Em resumo, de um modo genérico, têm-se as equivalências\n",
    "$$\\neg(\\forall x\\; P(x))\\Leftrightarrow \\exists x\\; \\neg P(x)$$\n",
    "$$\\neg(\\exists x\\; P(x))\\Leftrightarrow \\forall x\\; \\neg P(x)$$\n",
    "conhecidas por **Segundas Leis De Morgan**.\n",
    "\n",
    "#### Exemplo:\n",
    "Usando estas propriedades temos por exemplo:\n",
    "1. $\\neg\\neg \\forall x P(x)\\Leftrightarrow \\neg \\exists x (\\neg P(x))\\Leftrightarrow \\forall x (\\neg\\neg P(x)) \\Leftrightarrow \\forall x P(x)$;\n",
    "+ $\\neg\\neg \\exists x P(x)\\Leftrightarrow \\neg \\forall x (\\neg P(x))\\Leftrightarrow \\exists x (\\neg\\neg P(x)) \\Leftrightarrow \\exists x P(x)$;\n",
    "+ $\\neg\\forall x\\forall y P(x,y)\\Leftrightarrow \\exists x\\neg\\forall y P(x,y)\\Leftrightarrow \\exists x\\exists y (\\neg P(x,y))$;\n",
    "+ $\\neg\\exists x\\forall y P(x,y)\\Leftrightarrow \\forall x\\neg\\forall y P(x,y)\\Leftrightarrow \\forall x\\exists y (\\neg P(x,y))$.\n",
    "\n"
   ]
  },
  {
   "cell_type": "markdown",
   "metadata": {
    "collapsed": true
   },
   "source": [
    "## Exercícios de Python:"
   ]
  },
  {
   "cell_type": "markdown",
   "metadata": {},
   "source": [
    "#### Exercício:\n",
    "Apresente um script em python que liste os números entre 0 e 100:\n",
    "1. divisíveis por 3;\n",
    "2. ímpares;\n",
    "3. múltiplos de 4;\n",
    "4. cuja soma por 3 é múltipla de 3;\n",
    "5. cuja soma por 2 é divisível por 3;"
   ]
  },
  {
   "cell_type": "markdown",
   "metadata": {},
   "source": [
    "#### Exercício:\n",
    "Apresente um script em python que liste os números entre 0 e 100:\n",
    "1. não são divisíveis por 7 ou 3 ou 2;\n",
    "2. não são divisíveis por 7 ou 5 ou 3;\n",
    "3. não são divisíveis por 5 ou 3 ou 2;"
   ]
  },
  {
   "cell_type": "markdown",
   "metadata": {},
   "source": [
    "#### Exercício:\n",
    "Apresente um script em python que liste os números entre 0 e 100:\n",
    "1. múltiplos de 4 que não são divisíveis por 3 ou 5;\n",
    "2. múltiplos de 2 que não são divisíveis por 3 ou 5;\n",
    "3. múltiplos de 3 que não são divisíveis por 2 ou 5;"
   ]
  },
  {
   "cell_type": "markdown",
   "metadata": {},
   "source": [
    "#### Exercício:\n",
    "São exemplos de palavras simétricas 'abba','a','aa','aba' ou 'aabbaa', não são palavras simétricas 'ab','abca'.\n",
    "1. Crie uma função booleana sim(str)-> bool que devolve True se a string define uma palavra simétrica.\n",
    "2. Crie uma função booleana notsim(str)-> bool que devolve True se a string define uma palavra não simétrica de comprimento ímpar.\n",
    "3. Crie uma função inteira psim(stri)-> int que devolve o índice do caracter que define a posição de simetria. Por exemplo psim('abbba') == 2, psim('abbxhxba') == 4, mas que para palavras pares ou não simétricas devolve -1, ou seja psim('abba') == -1, e psim('abbca') == -1.\n"
   ]
  },
  {
   "cell_type": "markdown",
   "metadata": {},
   "source": [
    "#### Exercício:\n",
    "Crie funções $sopa(str)->$, poe cada alínea, que dada uma string imprima uma tabela como descrita abaixo:\n",
    "1. Dada a palavra faça o shift para a direita\n",
    "```python\n",
    "     >>>  sopa('abcdef')\n",
    "     abcdef\n",
    "     bcdefa\n",
    "     cdefab\n",
    "     defabc\n",
    "     efabcd\n",
    "     fabcde\n",
    "```    \n",
    "2. Para palavras de comprimento par, faça shift ao centro\n",
    "```python\n",
    "     >>>  sopa('abcdef')\n",
    "     abcdef\n",
    "     bcafde\n",
    "     cabefd\n",
    "```        \n",
    "3. Para palavras de comprimento par, inverte no centro\n",
    "```python\n",
    "    >>>  sopa('abcdef')\n",
    "    abcdef\n",
    "    bcfade\n",
    "    cfebad\n",
    "    fedcba\n",
    "```"
   ]
  },
  {
   "cell_type": "markdown",
   "metadata": {},
   "source": [
    "#### Exercício:\n",
    "\n",
    "Os gráficos tartaruga são uma forma comum de iniciar as crianças na programação. Foi parte da linguagem de programação Logo, desenvolvida por Wally Feurzig e Seymour Papert em 1966. Em Python este fragmento da linguagem Logo pode ser usada recorrendo ao modulo \\emph{turtle}.\n",
    "\n",
    "Imagine um robot tartaruga, que está posicionado no plano cartesiano na posição de coordenadas $(0,0)$. Através do comando  turtle.fd(15) a tartaruga move-se para a frente 15 pontos, deixando como rasto uma linha. O comando turtle.lt(90) faz com que a tartaruga rode para a esquerda 90 grau, já turtle.rt(50) faz com que ela rode para a direita 50 graus.\n",
    "\n",
    "Por exemplo:\n",
    "```python\n",
    "    >>> import turtle  # importa os comandos para controlar a tartaruga\n",
    "    >>> turtle.fd(100) # move 100 pontos para a frente\n",
    "    >>> turtle.lt(90)  # vira 90graus para a esquerda\n",
    "    >>> turtle.fd(100)\n",
    "    >>> turtle.lt(90)\n",
    "    >>> turtle.fd(100)\n",
    "    >>> turtle.lt(90)\n",
    "    >>> turtle.fd(100)\n",
    "```"
   ]
  },
  {
   "cell_type": "markdown",
   "metadata": {},
   "source": [
    "(O teste corre numa janela diferente)"
   ]
  },
  {
   "cell_type": "code",
   "execution_count": 7,
   "metadata": {
    "collapsed": false
   },
   "outputs": [],
   "source": [
    "import turtle\n",
    "turtle.fd(100)\n",
    "turtle.lt(90) \n",
    "turtle.fd(100)\n",
    "turtle.lt(90)\n",
    "turtle.fd(100)\n",
    "turtle.lt(90)\n",
    "turtle.fd(100)"
   ]
  },
  {
   "cell_type": "markdown",
   "metadata": {},
   "source": [
    "Este script abre uma janela gráfica e desenha um quadrado de lados definidos por 100 pontos.\n",
    "\n",
    "Podemos imaginar que a tartaruga desloca no ventre uma caneta, que pode ser baixada turtle.pd(), ou levantada turtle.pu(), permitindo deixar ou anular o rasto. A tartaruga pode ser posta em qualquer ponto do plano de coordenadas $(x,y)$ através do comando turtle.goto(x,y). Por exemplo, assumindo que já se importou o módulo \\emph{turtle}:\n",
    "```python\n",
    "    >>> turtle.pu()          # levanta a caneta\n",
    "    >>> turtle.goto(50,100)  # posiciona a tartaruga\n",
    "    >>> turtle.pd()          # baixa a caneta\n",
    "    >>> turtle.fd(10)        # avança 10 pontos\n",
    "    >>> turtle.pu()          # levanta a caneta\n",
    "    >>> turtle.fd(10)        # avança 10 pontos\n",
    "    >>> turtle.pd()          # baixa a caneta\n",
    "    >>> turtle.fd(10)        # avança 10 pontos\n",
    "```\n",
    "O script traça uma linha tracejada a partir do ponto de coordenadas *x=50* e *y=100*.\n",
    "\n",
    "Outro comando útil é *turtle.clearscreen()* que permite limpar a janela (para mais comandos use *help(turtle)*).\n",
    "\n",
    "Use os comandos apresentados para controlar a tartaruga:\n",
    "1. Defina uma função $poly(n,m)$ que desenhe na posição da tartaruga um polígono com $n$ faces e lados de comprimento $m$ pontos. Por exemplo:\n",
    "```python\n",
    "    >>> poly(10,30)\n",
    "```\n",
    "![image](polyPy.png)\n",
    "2. Defina uma função *raio(x,y,n,m)* que desenha $n$ raios de comprimento $m$ a partir da posição $(x,y)$.\n",
    "```python\n",
    "    >>> raio(0,0,30,100)\n",
    "```\n",
    "![image](raiosPy.png)"
   ]
  },
  {
   "cell_type": "code",
   "execution_count": null,
   "metadata": {
    "collapsed": true
   },
   "outputs": [],
   "source": []
  }
 ],
 "metadata": {
  "kernelspec": {
   "display_name": "Python 3",
   "language": "python",
   "name": "python3"
  },
  "language_info": {
   "codemirror_mode": {
    "name": "ipython",
    "version": 3
   },
   "file_extension": ".py",
   "mimetype": "text/x-python",
   "name": "python",
   "nbconvert_exporter": "python",
   "pygments_lexer": "ipython3",
   "version": "3.5.1"
  }
 },
 "nbformat": 4,
 "nbformat_minor": 0
}
